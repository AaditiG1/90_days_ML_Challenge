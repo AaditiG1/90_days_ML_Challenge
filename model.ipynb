{
 "cells": [
  {
   "cell_type": "code",
   "execution_count": 5,
   "id": "e4a41b7d-b669-4946-af68-d8fcd11d668f",
   "metadata": {},
   "outputs": [
    {
     "name": "stderr",
     "output_type": "stream",
     "text": [
      "\n",
      "[notice] A new release of pip is available: 24.0 -> 25.2\n",
      "[notice] To update, run: python.exe -m pip install --upgrade pip\n"
     ]
    },
    {
     "name": "stdout",
     "output_type": "stream",
     "text": [
      "Requirement already satisfied: import-ipynb in c:\\users\\asus1\\appdata\\local\\programs\\python\\python312\\lib\\site-packages (0.2)\n",
      "Requirement already satisfied: IPython in c:\\users\\asus1\\appdata\\local\\programs\\python\\python312\\lib\\site-packages (from import-ipynb) (9.0.1)\n",
      "Requirement already satisfied: nbformat in c:\\users\\asus1\\appdata\\local\\programs\\python\\python312\\lib\\site-packages (from import-ipynb) (5.10.4)\n",
      "Requirement already satisfied: colorama in c:\\users\\asus1\\appdata\\local\\programs\\python\\python312\\lib\\site-packages (from IPython->import-ipynb) (0.4.6)\n",
      "Requirement already satisfied: decorator in c:\\users\\asus1\\appdata\\local\\programs\\python\\python312\\lib\\site-packages (from IPython->import-ipynb) (5.2.1)\n",
      "Requirement already satisfied: ipython-pygments-lexers in c:\\users\\asus1\\appdata\\local\\programs\\python\\python312\\lib\\site-packages (from IPython->import-ipynb) (1.1.1)\n",
      "Requirement already satisfied: jedi>=0.16 in c:\\users\\asus1\\appdata\\local\\programs\\python\\python312\\lib\\site-packages (from IPython->import-ipynb) (0.19.2)\n",
      "Requirement already satisfied: matplotlib-inline in c:\\users\\asus1\\appdata\\local\\programs\\python\\python312\\lib\\site-packages (from IPython->import-ipynb) (0.1.7)\n",
      "Requirement already satisfied: prompt_toolkit<3.1.0,>=3.0.41 in c:\\users\\asus1\\appdata\\local\\programs\\python\\python312\\lib\\site-packages (from IPython->import-ipynb) (3.0.50)\n",
      "Requirement already satisfied: pygments>=2.4.0 in c:\\users\\asus1\\appdata\\local\\programs\\python\\python312\\lib\\site-packages (from IPython->import-ipynb) (2.19.1)\n",
      "Requirement already satisfied: stack_data in c:\\users\\asus1\\appdata\\local\\programs\\python\\python312\\lib\\site-packages (from IPython->import-ipynb) (0.6.3)\n",
      "Requirement already satisfied: traitlets>=5.13.0 in c:\\users\\asus1\\appdata\\local\\programs\\python\\python312\\lib\\site-packages (from IPython->import-ipynb) (5.14.3)\n",
      "Requirement already satisfied: fastjsonschema>=2.15 in c:\\users\\asus1\\appdata\\local\\programs\\python\\python312\\lib\\site-packages (from nbformat->import-ipynb) (2.21.1)\n",
      "Requirement already satisfied: jsonschema>=2.6 in c:\\users\\asus1\\appdata\\local\\programs\\python\\python312\\lib\\site-packages (from nbformat->import-ipynb) (4.23.0)\n",
      "Requirement already satisfied: jupyter-core!=5.0.*,>=4.12 in c:\\users\\asus1\\appdata\\local\\programs\\python\\python312\\lib\\site-packages (from nbformat->import-ipynb) (5.7.2)\n",
      "Requirement already satisfied: parso<0.9.0,>=0.8.4 in c:\\users\\asus1\\appdata\\local\\programs\\python\\python312\\lib\\site-packages (from jedi>=0.16->IPython->import-ipynb) (0.8.4)\n",
      "Requirement already satisfied: attrs>=22.2.0 in c:\\users\\asus1\\appdata\\local\\programs\\python\\python312\\lib\\site-packages (from jsonschema>=2.6->nbformat->import-ipynb) (25.1.0)\n",
      "Requirement already satisfied: jsonschema-specifications>=2023.03.6 in c:\\users\\asus1\\appdata\\local\\programs\\python\\python312\\lib\\site-packages (from jsonschema>=2.6->nbformat->import-ipynb) (2024.10.1)\n",
      "Requirement already satisfied: referencing>=0.28.4 in c:\\users\\asus1\\appdata\\local\\programs\\python\\python312\\lib\\site-packages (from jsonschema>=2.6->nbformat->import-ipynb) (0.36.2)\n",
      "Requirement already satisfied: rpds-py>=0.7.1 in c:\\users\\asus1\\appdata\\local\\programs\\python\\python312\\lib\\site-packages (from jsonschema>=2.6->nbformat->import-ipynb) (0.23.1)\n",
      "Requirement already satisfied: platformdirs>=2.5 in c:\\users\\asus1\\appdata\\local\\programs\\python\\python312\\lib\\site-packages (from jupyter-core!=5.0.*,>=4.12->nbformat->import-ipynb) (4.3.6)\n",
      "Requirement already satisfied: pywin32>=300 in c:\\users\\asus1\\appdata\\local\\programs\\python\\python312\\lib\\site-packages (from jupyter-core!=5.0.*,>=4.12->nbformat->import-ipynb) (308)\n",
      "Requirement already satisfied: wcwidth in c:\\users\\asus1\\appdata\\local\\programs\\python\\python312\\lib\\site-packages (from prompt_toolkit<3.1.0,>=3.0.41->IPython->import-ipynb) (0.2.13)\n",
      "Requirement already satisfied: executing>=1.2.0 in c:\\users\\asus1\\appdata\\local\\programs\\python\\python312\\lib\\site-packages (from stack_data->IPython->import-ipynb) (2.2.0)\n",
      "Requirement already satisfied: asttokens>=2.1.0 in c:\\users\\asus1\\appdata\\local\\programs\\python\\python312\\lib\\site-packages (from stack_data->IPython->import-ipynb) (3.0.0)\n",
      "Requirement already satisfied: pure-eval in c:\\users\\asus1\\appdata\\local\\programs\\python\\python312\\lib\\site-packages (from stack_data->IPython->import-ipynb) (0.2.3)\n",
      "Requirement already satisfied: typing-extensions>=4.4.0 in c:\\users\\asus1\\appdata\\local\\programs\\python\\python312\\lib\\site-packages (from referencing>=0.28.4->jsonschema>=2.6->nbformat->import-ipynb) (4.14.1)\n",
      "Hello World\n",
      "5 My name is Aaditi. 3.2\n"
     ]
    },
    {
     "name": "stdin",
     "output_type": "stream",
     "text": [
      "Enter your name:  Aaditi\n"
     ]
    },
    {
     "name": "stdout",
     "output_type": "stream",
     "text": [
      "Hi Aaditi !\n"
     ]
    },
    {
     "name": "stdin",
     "output_type": "stream",
     "text": [
      "Enter a number: 2\n"
     ]
    },
    {
     "name": "stdout",
     "output_type": "stream",
     "text": [
      "You've entered the number 2\n"
     ]
    },
    {
     "name": "stdin",
     "output_type": "stream",
     "text": [
      "Enter a decimal number: 1.2\n"
     ]
    },
    {
     "name": "stdout",
     "output_type": "stream",
     "text": [
      "The number is : 1.2\n"
     ]
    },
    {
     "name": "stdin",
     "output_type": "stream",
     "text": [
      "Enter something: hello\n"
     ]
    },
    {
     "name": "stdout",
     "output_type": "stream",
     "text": [
      "The result is: True\n",
      "<class 'int'>\n",
      "4.0\n",
      "<class 'float'>\n",
      "1\n",
      "<class 'int'>\n",
      "Addition: 14\n",
      "Subtraction: 10\n",
      "Multiplication: 24\n",
      "Division: 6.0\n",
      "Floor Divison : 6\n",
      "Modulus: 0\n",
      "Exponential: 144\n",
      "False\n",
      "True\n",
      "False\n",
      "True\n",
      "False\n",
      "True\n",
      "Does 14 lie between p and q?: True\n",
      "Suitable?: True\n",
      "Is the condition true?: False\n",
      "number isn't 1, 2 or 3\n",
      "The person is an Adult.\n",
      "Negative\n",
      "You can enter the theater.\n",
      "You may be allowed in (with adult or pass).\n",
      "Thanks for having your ticket!\n",
      "Number: 1\n",
      "Number: 2\n",
      "Number: 3\n",
      "Number: 4\n",
      "Number: 5\n",
      "Number: 6\n",
      "Number: 7\n",
      "Number: 8\n",
      "Number: 9\n",
      "Number: 1\n",
      "Number: 2\n",
      "Number: 3\n",
      "Number: 4\n",
      "Number: 5\n",
      "Number: 6\n",
      "Number: 7\n",
      "Number: 8\n",
      "Number: 9\n",
      "Number: 10\n",
      "1\n",
      "2\n",
      "1\n",
      "2\n",
      "3\n",
      "4\n",
      "5\n",
      "1\n",
      "2\n",
      "3\n",
      "0 Sam\n",
      "1 Rose\n",
      "2 Nat\n",
      "Sam : 86\n",
      "Rose : 85\n",
      "Nat : 82\n",
      "[1, 2, 3, 4, 5]\n",
      "['Adi', 'sam', 'pandu', 'nat']\n",
      "[1, 'hi', 2, True]\n",
      "((1, 2, 3), ('aarav', 'basu', 'suman'))\n",
      "{1: 'Aaditi', 2: 'Aarav', 3: 'Aman'}\n",
      "{1, 2, 3, 4}\n",
      "[1, 4, 9, 16]\n",
      "{1: 1, 2: 4, 3: 9, 4: 16}\n",
      "{16, 1, 4, 9}\n",
      "blue\n",
      "purple\n",
      "['blue', 'brown', 'yellow', 'purple']\n",
      "['red', 'blue', 'brown', 'yellow']\n",
      "['red', 'blue', 'brown', 'beige', 'purple']\n",
      "['red', 'brown', 'beige', 'purple']\n",
      "Hello World!!\n",
      "Even\n",
      "Odd\n",
      "x:  10\n",
      "y:  50\n",
      "Aaditi Ghimire\n",
      "Aaditi Ghimire\n",
      "Hi, I am Aaditi\n",
      "My age is  20\n",
      "Hello\n",
      "Welcome\n",
      "to\n",
      "GeeksforGeeks\n",
      "first == Geeks\n",
      "mid == for\n",
      "last == Geeks\n",
      "True\n",
      "False\n",
      "[1, 4, 9, 16]\n",
      "[2, 8, 10]\n",
      "[('Nat', 17), ('Aditi', 18), ('Sam', 19), ('Rose', 20)]\n",
      "Inside function: Rose\n",
      "Outside function: Aaditi\n",
      "August 04, 2025\n",
      "My name is Aaditi and I am 20 years old.\n",
      "Hello Adi!\n",
      "This file was written using Python.\n",
      "Hello Adi!\n",
      "This file was written using Python.\n",
      "This line is appended at the end.\n",
      "Before: Hello Adi!\n",
      "This file was written using Python.\n",
      "This line is appended at the end.\n"
     ]
    }
   ],
   "source": [
    "!pip install import-ipynb\n",
    "import import_ipynb\n",
    "from aug4 import e"
   ]
  },
  {
   "cell_type": "code",
   "execution_count": 7,
   "id": "17e30968-c1d3-4efd-bcc5-d34a82d4c6b0",
   "metadata": {},
   "outputs": [
    {
     "data": {
      "text/plain": [
       "'Adult'"
      ]
     },
     "execution_count": 7,
     "metadata": {},
     "output_type": "execute_result"
    }
   ],
   "source": [
    "e(19)"
   ]
  },
  {
   "cell_type": "markdown",
   "id": "b964e8b7-2d68-4038-a6c6-2bec4d7064aa",
   "metadata": {},
   "source": [
    "## 8. Error Handling"
   ]
  },
  {
   "cell_type": "code",
   "execution_count": 9,
   "id": "5a0f98a1-0a6f-407c-a588-584423057917",
   "metadata": {},
   "outputs": [
    {
     "name": "stdin",
     "output_type": "stream",
     "text": [
      "Enter first number:  1\n",
      "Enter second number:  2\n"
     ]
    },
    {
     "name": "stdout",
     "output_type": "stream",
     "text": [
      "Sum is: 3.0\n",
      "Addition operation complete.\n"
     ]
    }
   ],
   "source": [
    "# try, except, else, finally\n",
    "def add_nums():\n",
    "    try:\n",
    "        a = float(input(\"Enter first number: \"))\n",
    "        b = float(input(\"Enter second number: \"))\n",
    "        result = a + b\n",
    "    except ValueError:\n",
    "        print(\"Error: Please enter valid numbers!\")\n",
    "    else:\n",
    "        print(\"Sum is:\", result)\n",
    "    finally:\n",
    "        print(\"Addition operation complete.\")\n",
    "\n",
    "add_nums()\n"
   ]
  },
  {
   "cell_type": "code",
   "execution_count": 25,
   "id": "f0fd1ae2-13c1-43b7-ac05-394ab9130472",
   "metadata": {},
   "outputs": [
    {
     "name": "stdout",
     "output_type": "stream",
     "text": [
      "Valid age: 25\n"
     ]
    }
   ],
   "source": [
    "#Raising exception\n",
    "def check_age(age):\n",
    "    if age < 0:\n",
    "        raise ValueError(\"Age cannot be negative!\")\n",
    "    print(\"Valid age:\", age)\n",
    "\n",
    "# Example usage\n",
    "check_age(25)   # it prints out \n",
    "##check_age(-25) # it doesnot prints out"
   ]
  },
  {
   "cell_type": "code",
   "execution_count": 30,
   "id": "87cbbd9f-02a2-4c48-9dcf-d96ba3831e9a",
   "metadata": {},
   "outputs": [
    {
     "name": "stdin",
     "output_type": "stream",
     "text": [
      "Enter your age:  18\n"
     ]
    },
    {
     "name": "stdout",
     "output_type": "stream",
     "text": [
      "Registration successful.\n"
     ]
    }
   ],
   "source": [
    "#Custom Exception\n",
    "class TooYoungError(Exception):\n",
    "    def __init__(self, age):\n",
    "        super().__init__(f\"Age {age} is too young to register.\")\n",
    "\n",
    "def register(age):\n",
    "    if age < 18:\n",
    "        raise TooYoungError(age)\n",
    "    print(\"Registration successful.\")\n",
    "\n",
    "try:\n",
    "    age = int(input(\"Enter your age: \"))\n",
    "    register(age)\n",
    "except TooYoungError as e:\n",
    "    print(\"Custom Error Caught:\", e)"
   ]
  },
  {
   "cell_type": "code",
   "execution_count": null,
   "id": "8f5f5f50-7d03-4725-bf8c-028bc52448b7",
   "metadata": {},
   "outputs": [],
   "source": []
  }
 ],
 "metadata": {
  "kernelspec": {
   "display_name": "Python 3 (ipykernel)",
   "language": "python",
   "name": "python3"
  },
  "language_info": {
   "codemirror_mode": {
    "name": "ipython",
    "version": 3
   },
   "file_extension": ".py",
   "mimetype": "text/x-python",
   "name": "python",
   "nbconvert_exporter": "python",
   "pygments_lexer": "ipython3",
   "version": "3.12.2"
  }
 },
 "nbformat": 4,
 "nbformat_minor": 5
}
