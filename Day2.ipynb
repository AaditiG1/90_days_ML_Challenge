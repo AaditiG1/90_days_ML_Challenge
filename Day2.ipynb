{
 "cells": [
  {
   "cell_type": "code",
   "execution_count": 2,
   "id": "e4a41b7d-b669-4946-af68-d8fcd11d668f",
   "metadata": {},
   "outputs": [
    {
     "name": "stdout",
     "output_type": "stream",
     "text": [
      "Requirement already satisfied: import-ipynb in c:\\users\\asus1\\appdata\\local\\programs\\python\\python312\\lib\\site-packages (0.2)\n",
      "Requirement already satisfied: IPython in c:\\users\\asus1\\appdata\\local\\programs\\python\\python312\\lib\\site-packages (from import-ipynb) (9.0.1)\n",
      "Requirement already satisfied: nbformat in c:\\users\\asus1\\appdata\\local\\programs\\python\\python312\\lib\\site-packages (from import-ipynb) (5.10.4)\n",
      "Requirement already satisfied: colorama in c:\\users\\asus1\\appdata\\local\\programs\\python\\python312\\lib\\site-packages (from IPython->import-ipynb) (0.4.6)\n",
      "Requirement already satisfied: decorator in c:\\users\\asus1\\appdata\\local\\programs\\python\\python312\\lib\\site-packages (from IPython->import-ipynb) (5.2.1)\n",
      "Requirement already satisfied: ipython-pygments-lexers in c:\\users\\asus1\\appdata\\local\\programs\\python\\python312\\lib\\site-packages (from IPython->import-ipynb) (1.1.1)\n",
      "Requirement already satisfied: jedi>=0.16 in c:\\users\\asus1\\appdata\\local\\programs\\python\\python312\\lib\\site-packages (from IPython->import-ipynb) (0.19.2)\n",
      "Requirement already satisfied: matplotlib-inline in c:\\users\\asus1\\appdata\\local\\programs\\python\\python312\\lib\\site-packages (from IPython->import-ipynb) (0.1.7)\n",
      "Requirement already satisfied: prompt_toolkit<3.1.0,>=3.0.41 in c:\\users\\asus1\\appdata\\local\\programs\\python\\python312\\lib\\site-packages (from IPython->import-ipynb) (3.0.50)\n",
      "Requirement already satisfied: pygments>=2.4.0 in c:\\users\\asus1\\appdata\\local\\programs\\python\\python312\\lib\\site-packages (from IPython->import-ipynb) (2.19.1)\n",
      "Requirement already satisfied: stack_data in c:\\users\\asus1\\appdata\\local\\programs\\python\\python312\\lib\\site-packages (from IPython->import-ipynb) (0.6.3)\n",
      "Requirement already satisfied: traitlets>=5.13.0 in c:\\users\\asus1\\appdata\\local\\programs\\python\\python312\\lib\\site-packages (from IPython->import-ipynb) (5.14.3)\n",
      "Requirement already satisfied: fastjsonschema>=2.15 in c:\\users\\asus1\\appdata\\local\\programs\\python\\python312\\lib\\site-packages (from nbformat->import-ipynb) (2.21.1)\n",
      "Requirement already satisfied: jsonschema>=2.6 in c:\\users\\asus1\\appdata\\local\\programs\\python\\python312\\lib\\site-packages (from nbformat->import-ipynb) (4.23.0)\n",
      "Requirement already satisfied: jupyter-core!=5.0.*,>=4.12 in c:\\users\\asus1\\appdata\\local\\programs\\python\\python312\\lib\\site-packages (from nbformat->import-ipynb) (5.7.2)\n",
      "Requirement already satisfied: parso<0.9.0,>=0.8.4 in c:\\users\\asus1\\appdata\\local\\programs\\python\\python312\\lib\\site-packages (from jedi>=0.16->IPython->import-ipynb) (0.8.4)\n",
      "Requirement already satisfied: attrs>=22.2.0 in c:\\users\\asus1\\appdata\\local\\programs\\python\\python312\\lib\\site-packages (from jsonschema>=2.6->nbformat->import-ipynb) (25.1.0)\n",
      "Requirement already satisfied: jsonschema-specifications>=2023.03.6 in c:\\users\\asus1\\appdata\\local\\programs\\python\\python312\\lib\\site-packages (from jsonschema>=2.6->nbformat->import-ipynb) (2024.10.1)\n",
      "Requirement already satisfied: referencing>=0.28.4 in c:\\users\\asus1\\appdata\\local\\programs\\python\\python312\\lib\\site-packages (from jsonschema>=2.6->nbformat->import-ipynb) (0.36.2)\n",
      "Requirement already satisfied: rpds-py>=0.7.1 in c:\\users\\asus1\\appdata\\local\\programs\\python\\python312\\lib\\site-packages (from jsonschema>=2.6->nbformat->import-ipynb) (0.23.1)\n",
      "Requirement already satisfied: platformdirs>=2.5 in c:\\users\\asus1\\appdata\\local\\programs\\python\\python312\\lib\\site-packages (from jupyter-core!=5.0.*,>=4.12->nbformat->import-ipynb) (4.3.6)\n",
      "Requirement already satisfied: pywin32>=300 in c:\\users\\asus1\\appdata\\local\\programs\\python\\python312\\lib\\site-packages (from jupyter-core!=5.0.*,>=4.12->nbformat->import-ipynb) (308)\n",
      "Requirement already satisfied: wcwidth in c:\\users\\asus1\\appdata\\local\\programs\\python\\python312\\lib\\site-packages (from prompt_toolkit<3.1.0,>=3.0.41->IPython->import-ipynb) (0.2.13)\n",
      "Requirement already satisfied: executing>=1.2.0 in c:\\users\\asus1\\appdata\\local\\programs\\python\\python312\\lib\\site-packages (from stack_data->IPython->import-ipynb) (2.2.0)\n",
      "Requirement already satisfied: asttokens>=2.1.0 in c:\\users\\asus1\\appdata\\local\\programs\\python\\python312\\lib\\site-packages (from stack_data->IPython->import-ipynb) (3.0.0)\n",
      "Requirement already satisfied: pure-eval in c:\\users\\asus1\\appdata\\local\\programs\\python\\python312\\lib\\site-packages (from stack_data->IPython->import-ipynb) (0.2.3)\n",
      "Requirement already satisfied: typing-extensions>=4.4.0 in c:\\users\\asus1\\appdata\\local\\programs\\python\\python312\\lib\\site-packages (from referencing>=0.28.4->jsonschema>=2.6->nbformat->import-ipynb) (4.14.1)\n"
     ]
    },
    {
     "name": "stderr",
     "output_type": "stream",
     "text": [
      "\n",
      "[notice] A new release of pip is available: 24.0 -> 25.2\n",
      "[notice] To update, run: python.exe -m pip install --upgrade pip\n"
     ]
    },
    {
     "name": "stdout",
     "output_type": "stream",
     "text": [
      "Hello World\n",
      "5 My name is Aaditi. 3.2\n"
     ]
    },
    {
     "name": "stdin",
     "output_type": "stream",
     "text": [
      "Enter your name:  Aaditi\n"
     ]
    },
    {
     "name": "stdout",
     "output_type": "stream",
     "text": [
      "Hi Aaditi !\n"
     ]
    },
    {
     "name": "stdin",
     "output_type": "stream",
     "text": [
      "Enter a number: 2\n"
     ]
    },
    {
     "name": "stdout",
     "output_type": "stream",
     "text": [
      "You've entered the number 2\n"
     ]
    },
    {
     "name": "stdin",
     "output_type": "stream",
     "text": [
      "Enter a decimal number: 1.2\n"
     ]
    },
    {
     "name": "stdout",
     "output_type": "stream",
     "text": [
      "The number is : 1.2\n"
     ]
    },
    {
     "name": "stdin",
     "output_type": "stream",
     "text": [
      "Enter something: bye\n"
     ]
    },
    {
     "name": "stdout",
     "output_type": "stream",
     "text": [
      "The result is: True\n",
      "<class 'int'>\n",
      "4.0\n",
      "<class 'float'>\n",
      "1\n",
      "<class 'int'>\n",
      "Addition: 14\n",
      "Subtraction: 10\n",
      "Multiplication: 24\n",
      "Division: 6.0\n",
      "Floor Divison : 6\n",
      "Modulus: 0\n",
      "Exponential: 144\n",
      "False\n",
      "True\n",
      "False\n",
      "True\n",
      "False\n",
      "True\n",
      "Does 14 lie between p and q?: True\n",
      "Suitable?: True\n",
      "Is the condition true?: False\n",
      "number isn't 1, 2 or 3\n",
      "The person is an Adult.\n",
      "Negative\n",
      "You can enter the theater.\n",
      "You may be allowed in (with adult or pass).\n",
      "Thanks for having your ticket!\n",
      "Number: 1\n",
      "Number: 2\n",
      "Number: 3\n",
      "Number: 4\n",
      "Number: 5\n",
      "Number: 6\n",
      "Number: 7\n",
      "Number: 8\n",
      "Number: 9\n",
      "Number: 1\n",
      "Number: 2\n",
      "Number: 3\n",
      "Number: 4\n",
      "Number: 5\n",
      "Number: 6\n",
      "Number: 7\n",
      "Number: 8\n",
      "Number: 9\n",
      "Number: 10\n",
      "1\n",
      "2\n",
      "1\n",
      "2\n",
      "3\n",
      "4\n",
      "5\n",
      "1\n",
      "2\n",
      "3\n",
      "0 Sam\n",
      "1 Rose\n",
      "2 Nat\n",
      "Sam : 86\n",
      "Rose : 85\n",
      "Nat : 82\n",
      "[1, 2, 3, 4, 5]\n",
      "['Adi', 'sam', 'pandu', 'nat']\n",
      "[1, 'hi', 2, True]\n",
      "((1, 2, 3), ('aarav', 'basu', 'suman'))\n",
      "{1: 'Aaditi', 2: 'Aarav', 3: 'Aman'}\n",
      "{1, 2, 3, 4}\n",
      "[1, 4, 9, 16]\n",
      "{1: 1, 2: 4, 3: 9, 4: 16}\n",
      "{16, 1, 4, 9}\n",
      "blue\n",
      "purple\n",
      "['blue', 'brown', 'yellow', 'purple']\n",
      "['red', 'blue', 'brown', 'yellow']\n",
      "['red', 'blue', 'brown', 'beige', 'purple']\n",
      "['red', 'brown', 'beige', 'purple']\n",
      "Hello World!!\n",
      "Even\n",
      "Odd\n",
      "x:  10\n",
      "y:  50\n",
      "Aaditi Ghimire\n",
      "Aaditi Ghimire\n",
      "Hi, I am Aaditi\n",
      "My age is  20\n",
      "Hello\n",
      "Welcome\n",
      "to\n",
      "GeeksforGeeks\n",
      "first == Geeks\n",
      "mid == for\n",
      "last == Geeks\n",
      "True\n",
      "False\n",
      "[1, 4, 9, 16]\n",
      "[2, 8, 10]\n",
      "[('Nat', 17), ('Aditi', 18), ('Sam', 19), ('Rose', 20)]\n",
      "Inside function: Rose\n",
      "Outside function: Aaditi\n",
      "August 05, 2025\n",
      "My name is Aaditi and I am 20 years old.\n",
      "Hello Adi!\n",
      "This file was written using Python.\n",
      "Hello Adi!\n",
      "This file was written using Python.\n",
      "This line is appended at the end.\n",
      "Before: Hello Adi!\n",
      "This file was written using Python.\n",
      "This line is appended at the end.\n"
     ]
    }
   ],
   "source": [
    "!pip install import-ipynb\n",
    "import import_ipynb\n",
    "from Day1 import e"
   ]
  },
  {
   "cell_type": "code",
   "execution_count": 3,
   "id": "17e30968-c1d3-4efd-bcc5-d34a82d4c6b0",
   "metadata": {},
   "outputs": [
    {
     "data": {
      "text/plain": [
       "'Adult'"
      ]
     },
     "execution_count": 3,
     "metadata": {},
     "output_type": "execute_result"
    }
   ],
   "source": [
    "e(19)"
   ]
  },
  {
   "cell_type": "markdown",
   "id": "b964e8b7-2d68-4038-a6c6-2bec4d7064aa",
   "metadata": {},
   "source": [
    "## 8. Error Handling"
   ]
  },
  {
   "cell_type": "code",
   "execution_count": 4,
   "id": "5a0f98a1-0a6f-407c-a588-584423057917",
   "metadata": {},
   "outputs": [
    {
     "name": "stdin",
     "output_type": "stream",
     "text": [
      "Enter first number:  1\n",
      "Enter second number:  2\n"
     ]
    },
    {
     "name": "stdout",
     "output_type": "stream",
     "text": [
      "Sum is: 3.0\n",
      "Addition operation complete.\n"
     ]
    }
   ],
   "source": [
    "# try, except, else, finally\n",
    "def add_nums():\n",
    "    try:\n",
    "        a = float(input(\"Enter first number: \"))\n",
    "        b = float(input(\"Enter second number: \"))\n",
    "        result = a + b\n",
    "    except ValueError:\n",
    "        print(\"Error: Please enter valid numbers!\")\n",
    "    else:\n",
    "        print(\"Sum is:\", result)\n",
    "    finally:\n",
    "        print(\"Addition operation complete.\")\n",
    "\n",
    "add_nums()\n"
   ]
  },
  {
   "cell_type": "code",
   "execution_count": 5,
   "id": "f0fd1ae2-13c1-43b7-ac05-394ab9130472",
   "metadata": {},
   "outputs": [
    {
     "name": "stdout",
     "output_type": "stream",
     "text": [
      "Valid age: 25\n"
     ]
    }
   ],
   "source": [
    "#Raising exception\n",
    "def check_age(age):\n",
    "    if age < 0:\n",
    "        raise ValueError(\"Age cannot be negative!\")\n",
    "    print(\"Valid age:\", age)\n",
    "\n",
    "# Example usage\n",
    "check_age(25)   # it prints out \n",
    "##check_age(-25) # it doesnot prints out"
   ]
  },
  {
   "cell_type": "code",
   "execution_count": 6,
   "id": "87cbbd9f-02a2-4c48-9dcf-d96ba3831e9a",
   "metadata": {},
   "outputs": [
    {
     "name": "stdin",
     "output_type": "stream",
     "text": [
      "Enter your age:  12\n"
     ]
    },
    {
     "name": "stdout",
     "output_type": "stream",
     "text": [
      "Custom Error Caught: Age 12 is too young to register.\n"
     ]
    }
   ],
   "source": [
    "#Custom Exception\n",
    "class TooYoungError(Exception):\n",
    "    def __init__(self, age):\n",
    "        super().__init__(f\"Age {age} is too young to register.\")\n",
    "\n",
    "def register(age):\n",
    "    if age < 18:\n",
    "        raise TooYoungError(age)\n",
    "    print(\"Registration successful.\")\n",
    "\n",
    "try:\n",
    "    age = int(input(\"Enter your age: \"))\n",
    "    register(age)\n",
    "except TooYoungError as e:\n",
    "    print(\"Custom Error Caught:\", e)"
   ]
  },
  {
   "cell_type": "markdown",
   "id": "57a9a2fd-2c48-434d-8a00-383d131ea484",
   "metadata": {},
   "source": [
    "## Object-Oriented Programming (OOP)"
   ]
  },
  {
   "cell_type": "code",
   "execution_count": 7,
   "id": "b95102f3-4da1-4fcc-b033-0ddf4c38d59d",
   "metadata": {},
   "outputs": [
    {
     "name": "stdout",
     "output_type": "stream",
     "text": [
      "Aaditi\n",
      "H.Sapiens\n"
     ]
    }
   ],
   "source": [
    "#Creating a class\n",
    "class Human:\n",
    "    species = \"H.Sapiens\"\n",
    "\n",
    "    def __init__(self,name):\n",
    "        self.name = name\n",
    "        self._age = 0\n",
    "#Creating an object\n",
    "h1 = Human(\"Aaditi\")\n",
    "print(h1.name)\n",
    "print(h1.species)"
   ]
  },
  {
   "cell_type": "code",
   "execution_count": 8,
   "id": "854eaa49-b168-46a8-a08f-fc58589b9551",
   "metadata": {},
   "outputs": [
    {
     "name": "stdout",
     "output_type": "stream",
     "text": [
      "Name of the car is: BMW\n",
      "Color of the car is: Black\n"
     ]
    }
   ],
   "source": [
    "# Instances and Class variables\n",
    "#Class attribute\n",
    "class car:\n",
    "    name = \"BMW\"\n",
    "    color = \"Black\"\n",
    "# instance of class\n",
    "c = car()\n",
    "# accessing class attribute\n",
    "print(\"Name of the car is:\", c.name)\n",
    "print(\"Color of the car is:\", c.color)"
   ]
  },
  {
   "cell_type": "code",
   "execution_count": 9,
   "id": "f2d533e1-07b4-4a97-b9fa-d847e549e1b9",
   "metadata": {},
   "outputs": [
    {
     "name": "stdout",
     "output_type": "stream",
     "text": [
      "Name: Aaditi , Grade: A\n",
      "Name: Rosey , Grade: B\n"
     ]
    }
   ],
   "source": [
    "# Instance attribute\n",
    "class Student:\n",
    "   def __init__(self, name, grade):\n",
    "      self.__name = name\n",
    "      self.__grade = grade\n",
    "      print (\"Name:\", self.__name, \", Grade:\", self.__grade)\n",
    "\n",
    "# Creating instances \n",
    "student1 = Student(\"Aaditi\", \"A\")\n",
    "student2 = Student(\"Rosey\", \"B\")\n"
   ]
  },
  {
   "cell_type": "code",
   "execution_count": 10,
   "id": "7d1526ae-3048-46d1-82f8-03d94beb393d",
   "metadata": {},
   "outputs": [
    {
     "name": "stdout",
     "output_type": "stream",
     "text": [
      "Bird\n",
      "Parrot\n"
     ]
    }
   ],
   "source": [
    "# Inheritance \n",
    "# parent class\n",
    "class Bird: \n",
    "   def b(self):\n",
    "      print (\"Bird\")\n",
    "\n",
    "# child class\n",
    "class Parrot(Bird): \n",
    "   def p(self):\n",
    "      print (\"Parrot\")\n",
    "\n",
    "# creating instance \n",
    "a = Parrot()  \n",
    "# method calls\n",
    "a.b() \n",
    "a.p() "
   ]
  },
  {
   "cell_type": "code",
   "execution_count": 11,
   "id": "aca226eb-e8d2-4a12-80ce-3a23aaecc859",
   "metadata": {},
   "outputs": [
    {
     "name": "stdout",
     "output_type": "stream",
     "text": [
      "Aaditi 60000\n",
      "Aman 55000\n",
      "Titan 62000 HR\n",
      "Puma 45000 10\n",
      "Darwin 70000 Finance 20\n"
     ]
    }
   ],
   "source": [
    "# 1. Single Inheritance\n",
    "class Person:\n",
    "    def __init__(self, name):\n",
    "        self.name = name\n",
    "\n",
    "class Employee(Person):  # Employee inherits from Person\n",
    "    def __init__(self, name, salary):\n",
    "        super().__init__(name)\n",
    "        self.salary = salary\n",
    "\n",
    "# 2. Multiple Inheritance\n",
    "class Job:\n",
    "    def __init__(self, salary):\n",
    "        self.salary = salary\n",
    "\n",
    "class EmployeePersonJob(Employee, Job):  # Inherits from both Employee and Job\n",
    "    def __init__(self, name, salary):\n",
    "        Employee.__init__(self, name, salary)  # Initialize Employee\n",
    "        Job.__init__(self, salary)            # Initialize Job\n",
    "\n",
    "# 3. Multilevel Inheritance\n",
    "class Manager(EmployeePersonJob):  # Inherits from EmployeePersonJob\n",
    "    def __init__(self, name, salary, department):\n",
    "        EmployeePersonJob.__init__(self, name, salary)  # Explicitly initialize EmployeePersonJob\n",
    "        self.department = department\n",
    "\n",
    "# 4. Hierarchical Inheritance\n",
    "class AssistantManager(EmployeePersonJob):  # Inherits from EmployeePersonJob\n",
    "    def __init__(self, name, salary, team_size):\n",
    "        EmployeePersonJob.__init__(self, name, salary)  # Explicitly initialize EmployeePersonJob\n",
    "        self.team_size = team_size\n",
    "\n",
    "# 5. Hybrid Inheritance (Multiple + Multilevel)\n",
    "class SeniorManager(Manager, AssistantManager):  # Inherits from both Manager and AssistantManager\n",
    "    def __init__(self, name, salary, department, team_size):\n",
    "        Manager.__init__(self, name, salary, department)        # Initialize Manager\n",
    "        AssistantManager.__init__(self, name, salary, team_size)  # Initialize AssistantManager\n",
    "\n",
    "# Creating objects to show inheritance\n",
    "\n",
    "# Single Inheritance\n",
    "emp = Employee(\"Aaditi\", 60000)\n",
    "print(emp.name, emp.salary)\n",
    "\n",
    "# Multiple Inheritance\n",
    "emp2 = EmployeePersonJob(\"Aman\", 55000)\n",
    "print(emp2.name, emp2.salary)\n",
    "\n",
    "# Multilevel Inheritance\n",
    "mgr = Manager(\"Titan\", 62000, \"HR\")\n",
    "print(mgr.name, mgr.salary, mgr.department)\n",
    "\n",
    "# Hierarchical Inheritance\n",
    "asst_mgr = AssistantManager(\"Puma\", 45000, 10)\n",
    "print(asst_mgr.name, asst_mgr.salary, asst_mgr.team_size)\n",
    "\n",
    "# Hybrid Inheritance\n",
    "sen_mgr = SeniorManager(\"Darwin\", 70000, \"Finance\", 20)\n",
    "print(sen_mgr.name, sen_mgr.salary, sen_mgr.department, sen_mgr.team_size)"
   ]
  },
  {
   "cell_type": "code",
   "execution_count": 12,
   "id": "3a0e2486-57aa-48e3-b633-6a8606832ad3",
   "metadata": {},
   "outputs": [
    {
     "name": "stdout",
     "output_type": "stream",
     "text": [
      "Student Name: Aaditi\n",
      "Student Name: Aaditi, College: Islington College\n"
     ]
    }
   ],
   "source": [
    "# Method Overriding \n",
    "class Student:\n",
    "    def __init__(self, name):\n",
    "        self.name = name\n",
    "\n",
    "    def info(self):\n",
    "        return \"Student Name: \" + self.name\n",
    "\n",
    "\n",
    "class c_std(Student):\n",
    "    def __init__(self, name, college):\n",
    "        super().__init__(name)\n",
    "        self.college = college\n",
    "\n",
    "    def info(self):  # Method overriding\n",
    "        return \"Student Name: \" + self.name + \", College: \" + self.college\n",
    "\n",
    "\n",
    "# Create objects\n",
    "s = Student(\"Aaditi\")\n",
    "c = c_std(\"Aaditi\", \"Islington College\")\n",
    "\n",
    "# Print info\n",
    "print(s.info())    # uses Student's method\n",
    "print(c.info())   # uses overridden method in CollegeStudent\n",
    "\n"
   ]
  },
  {
   "cell_type": "code",
   "execution_count": 13,
   "id": "d7b26af0-7cd2-46a4-9321-f6d1ffc1c9c7",
   "metadata": {},
   "outputs": [
    {
     "name": "stdout",
     "output_type": "stream",
     "text": [
      "Name: Aarav marks: 50\n",
      "Name: Rishab marks: 25\n"
     ]
    }
   ],
   "source": [
    "#Encapsulation\n",
    "class Student:\n",
    "    def __init__(self, name=\"Aarav\", marks=50):\n",
    "        self.__name = name\n",
    "        self.__marks = marks #__name and __marks private meaning cannot be accessed outside\n",
    "\n",
    "    def studentdata(self):\n",
    "        print(\"Name: {} marks: {}\".format(self.__name, self.__marks))\n",
    "\n",
    "    # Getter methods\n",
    "    def getName(self):\n",
    "        return self.__name\n",
    "\n",
    "    def getMarks(self):\n",
    "        return self.__marks\n",
    "\n",
    "\n",
    "s1 = Student()\n",
    "s2 = Student(\"Rishab\", 25)\n",
    "\n",
    "# Accessing private variables safely via getter methods\n",
    "print(\"Name: {} marks: {}\".format(s1.getName(), s1.getMarks()))\n",
    "print(\"Name: {} marks: {}\".format(s2.getName(), s2.getMarks()))\n"
   ]
  },
  {
   "cell_type": "code",
   "execution_count": 14,
   "id": "3f9b2e5f-295d-462b-9042-39dc08f15e53",
   "metadata": {},
   "outputs": [
    {
     "name": "stdout",
     "output_type": "stream",
     "text": [
      "Method 1\n",
      "Method 2\n"
     ]
    }
   ],
   "source": [
    "# Abstraction\n",
    "from abc import ABC, abstractmethod\n",
    "\n",
    "class democlass(ABC): #Abstract class\n",
    "   @abstractmethod\n",
    "   def m1(self): #Abstract method\n",
    "      print (\"Method 1\")\n",
    "      return\n",
    "   def m2(self): #concrete method \n",
    "      print (\"Method 2\")\n",
    "       \n",
    "# Concrete subclass that implements the abstract method\n",
    "class c(democlass):\n",
    "   def m1(self):  # Implementation of the abstract method (m1) from democlass\n",
    "      super().m1()\n",
    "      return\n",
    "      \n",
    "obj = c()\n",
    "obj.m1()\n",
    "obj.m2()"
   ]
  },
  {
   "cell_type": "code",
   "execution_count": 15,
   "id": "f4723a07-b56d-42e2-9d45-a77426818de7",
   "metadata": {},
   "outputs": [
    {
     "name": "stdout",
     "output_type": "stream",
     "text": [
      "2\n",
      "4\n",
      "6\n",
      "8\n",
      "10\n"
     ]
    }
   ],
   "source": [
    "#Iterators\n",
    "class even_num:\n",
    "    def __iter__(self):\n",
    "        self.n = 2  # Start from the first even number\n",
    "        return self\n",
    "\n",
    "    def __next__(self):\n",
    "        x = self.n\n",
    "        self.n += 2  # Increment by 2 to get the next even number\n",
    "        return x\n",
    "\n",
    "# Create an instance of EvenNumbers\n",
    "even = even_num()\n",
    "i = iter(even)\n",
    "\n",
    "# Print the first five even numbers\n",
    "print(next(i))  \n",
    "print(next(i)) \n",
    "print(next(i))  \n",
    "print(next(i)) \n",
    "print(next(i))"
   ]
  },
  {
   "cell_type": "code",
   "execution_count": 16,
   "id": "8ecec077-eaff-4894-97a6-3ed832c07e02",
   "metadata": {},
   "outputs": [
    {
     "name": "stdout",
     "output_type": "stream",
     "text": [
      "1\n",
      "2\n",
      "3\n",
      "4\n",
      "5\n"
     ]
    }
   ],
   "source": [
    "# generator\n",
    "def fun(max):\n",
    "    count = 1\n",
    "    while count <= max:\n",
    "        yield count\n",
    "        count += 1\n",
    "\n",
    "count = fun(5)\n",
    "for n in count:\n",
    "    print(n)"
   ]
  },
  {
   "cell_type": "code",
   "execution_count": 17,
   "id": "759e57fe-3176-4c1f-a663-71ba763b7922",
   "metadata": {},
   "outputs": [
    {
     "name": "stdout",
     "output_type": "stream",
     "text": [
      "1\n",
      "4\n",
      "9\n",
      "16\n",
      "25\n"
     ]
    }
   ],
   "source": [
    "#Generator expression\n",
    "s = (x*x for x in range(1, 6))\n",
    "for i in s:\n",
    "    print(i)"
   ]
  },
  {
   "cell_type": "code",
   "execution_count": 18,
   "id": "cfa7b1c4-fd65-4683-8d39-6cb2cb2dbffa",
   "metadata": {},
   "outputs": [
    {
     "name": "stdout",
     "output_type": "stream",
     "text": [
      "Before calling the function.\n",
      "Hello, World!\n",
      "After calling the function.\n"
     ]
    }
   ],
   "source": [
    "#Decorator\n",
    "def decorator(func):\n",
    "    def wrapper(): #inner function\n",
    "        print(\"Before calling the function.\")\n",
    "        func()\n",
    "        print(\"After calling the function.\")\n",
    "    return wrapper # returning inner function\n",
    "\n",
    "# Applying the decorator to a function\n",
    "@decorator\n",
    "\n",
    "def greet():\n",
    "    print(\"Hello, World!\")\n",
    "greet()"
   ]
  },
  {
   "cell_type": "code",
   "execution_count": 19,
   "id": "d6c2a422-6731-4a0c-9c94-893343389b33",
   "metadata": {},
   "outputs": [
    {
     "name": "stdout",
     "output_type": "stream",
     "text": [
      "15\n"
     ]
    }
   ],
   "source": [
    "#Closure\n",
    "def f1(x):\n",
    "  \n",
    "    # This is the outer function that takes an argument 'x'\n",
    "    def f2(y):\n",
    "      \n",
    "        # This is the inner function that takes an argument 'y'\n",
    "        return x + y  # 'x' is captured from the outer function\n",
    "    \n",
    "    return f2  # Returning the inner function as a closure\n",
    "\n",
    "# Create a closure by calling outer_function\n",
    "closure = f1(10)\n",
    "\n",
    "# Now, we can use the closure, which \"remembers\" the value of 'x' as 10\n",
    "print(closure(5))"
   ]
  },
  {
   "cell_type": "code",
   "execution_count": 20,
   "id": "ceb68b24-82fa-456d-86a8-c495ad89f787",
   "metadata": {},
   "outputs": [
    {
     "name": "stdout",
     "output_type": "stream",
     "text": [
      "Before the function runs.\n",
      "Hello, myself Aaditi!\n",
      "After the function runs.\n",
      "greet\n",
      "This function says hello\n"
     ]
    }
   ],
   "source": [
    "# using functools.wraps\n",
    "import functools\n",
    "\n",
    "def my_decorator(func):\n",
    "    @functools.wraps(func)\n",
    "    def wrapper():\n",
    "        print(\"Before the function runs.\")\n",
    "        func()\n",
    "        print(\"After the function runs.\")\n",
    "    return wrapper\n",
    "\n",
    "@my_decorator\n",
    "def greet():\n",
    "    \"\"\"This function says hello\"\"\"\n",
    "    print(\"Hello, myself Aaditi!\")\n",
    "\n",
    "# Call the function\n",
    "greet()\n",
    "\n",
    "# Check metadata\n",
    "print(greet.__name__)  \n",
    "print(greet.__doc__)"
   ]
  },
  {
   "cell_type": "markdown",
   "id": "b321aff2-49f8-4d73-9620-be7a84f29334",
   "metadata": {},
   "source": [
    "## 12.Comprehensions & Functional Programming"
   ]
  },
  {
   "cell_type": "code",
   "execution_count": 21,
   "id": "23254c2b-60a5-45a8-976c-97d4b6feea2f",
   "metadata": {},
   "outputs": [],
   "source": [
    "# code done in number 4.\n"
   ]
  },
  {
   "cell_type": "code",
   "execution_count": 22,
   "id": "fb4b6fee-b1c8-4ca1-b8cd-8a3875e4d3ea",
   "metadata": {},
   "outputs": [
    {
     "name": "stdout",
     "output_type": "stream",
     "text": [
      "[1, 2, 3, 4]\n"
     ]
    }
   ],
   "source": [
    "#map\n",
    "s = ['1', '2', '3', '4']\n",
    "res = map(int, s)\n",
    "print(list(res))"
   ]
  },
  {
   "cell_type": "code",
   "execution_count": 23,
   "id": "9e1db508-56b4-4c1c-98d8-29e6f942cecd",
   "metadata": {},
   "outputs": [
    {
     "name": "stdout",
     "output_type": "stream",
     "text": [
      "[2, 4, 6, 8]\n"
     ]
    }
   ],
   "source": [
    "# map() wuth lambda\n",
    "a = [1, 2, 3, 4]\n",
    "# Using lambda function in \"function\" parameter to double each number in the list\n",
    "res = list(map(lambda x: x * 2, a))\n",
    "print(res)"
   ]
  },
  {
   "cell_type": "code",
   "execution_count": 24,
   "id": "0ba96ffd-79df-4ce1-90a2-5ccb9eab0834",
   "metadata": {},
   "outputs": [
    {
     "name": "stdout",
     "output_type": "stream",
     "text": [
      "[2, 4, 6]\n"
     ]
    }
   ],
   "source": [
    "#filter\n",
    "# Function to check if a number is even\n",
    "def even(n):\n",
    "    return n % 2 == 0\n",
    "\n",
    "a = [1, 2, 3, 4, 5, 6]\n",
    "b = filter(even, a)\n",
    "\n",
    "# Convert filter object to a list\n",
    "print(list(b))"
   ]
  },
  {
   "cell_type": "code",
   "execution_count": 25,
   "id": "7856ee89-148b-4bfe-a6de-b7dd8f68c571",
   "metadata": {},
   "outputs": [
    {
     "name": "stdout",
     "output_type": "stream",
     "text": [
      "[2, 4, 6]\n"
     ]
    }
   ],
   "source": [
    "#filter() with lambda\n",
    "a = [1, 2, 3, 4, 5, 6]\n",
    "b = filter(lambda x: x % 2 == 0, a)\n",
    "\n",
    "print(list(b))"
   ]
  },
  {
   "cell_type": "code",
   "execution_count": 26,
   "id": "e9d0d4bb-b4f7-4c5a-a0b9-69607f9141ff",
   "metadata": {},
   "outputs": [
    {
     "name": "stdout",
     "output_type": "stream",
     "text": [
      "15\n"
     ]
    }
   ],
   "source": [
    "#reduce\n",
    "from functools import reduce\n",
    "\n",
    "# Function to add two numbers\n",
    "def add(x, y):\n",
    "    return x + y\n",
    "\n",
    "a = [1, 2, 3, 4, 5]\n",
    "res = reduce(add, a)\n",
    "print(res)"
   ]
  },
  {
   "cell_type": "code",
   "execution_count": 27,
   "id": "366f2446-cba6-48b9-bc3e-db55cf72d5b9",
   "metadata": {},
   "outputs": [
    {
     "name": "stdout",
     "output_type": "stream",
     "text": [
      "15\n"
     ]
    }
   ],
   "source": [
    "#reduce() with lambda\n",
    "from functools import reduce\n",
    "\n",
    "# Summing numbers with reduce and lambda\n",
    "a = [1, 2, 3, 4, 5]\n",
    "res = reduce(lambda x, y: x + y, a)\n",
    "\n",
    "print(res)"
   ]
  },
  {
   "cell_type": "code",
   "execution_count": 28,
   "id": "2f13c4ce-5128-4725-9f41-8d5cf7245b29",
   "metadata": {},
   "outputs": [
    {
     "name": "stdout",
     "output_type": "stream",
     "text": [
      "Even\n",
      "Even\n"
     ]
    }
   ],
   "source": [
    "#lambda function with if else\n",
    "check = lambda x: \"Even\" if x % 2 == 0 else \"Odd\"\n",
    "\n",
    "print(check(2))  \n",
    "print(check(10))"
   ]
  },
  {
   "cell_type": "code",
   "execution_count": 29,
   "id": "05cd9011-f9ce-4ee1-ad9c-d9db5e3fb0f3",
   "metadata": {},
   "outputs": [
    {
     "name": "stdout",
     "output_type": "stream",
     "text": [
      "10\n",
      "20\n",
      "30\n",
      "40\n"
     ]
    }
   ],
   "source": [
    "#lambda function with list comprehensions\n",
    "li = [lambda arg=x: arg * 10 for x in range(1, 5)]\n",
    "for i in li:\n",
    "    print(i())"
   ]
  },
  {
   "cell_type": "code",
   "execution_count": null,
   "id": "644ea42a-5f31-4853-a3bc-e65ff3401605",
   "metadata": {},
   "outputs": [],
   "source": []
  }
 ],
 "metadata": {
  "kernelspec": {
   "display_name": "Python 3 (ipykernel)",
   "language": "python",
   "name": "python3"
  },
  "language_info": {
   "codemirror_mode": {
    "name": "ipython",
    "version": 3
   },
   "file_extension": ".py",
   "mimetype": "text/x-python",
   "name": "python",
   "nbconvert_exporter": "python",
   "pygments_lexer": "ipython3",
   "version": "3.12.2"
  }
 },
 "nbformat": 4,
 "nbformat_minor": 5
}
