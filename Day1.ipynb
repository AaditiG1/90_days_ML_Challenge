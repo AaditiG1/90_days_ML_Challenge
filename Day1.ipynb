{
 "cells": [
  {
   "cell_type": "code",
   "execution_count": 1,
   "id": "9144a1f5-d3ce-4bf4-97f1-f81abf9fd757",
   "metadata": {},
   "outputs": [],
   "source": [
    "import pandas as pd\n",
    "import numpy as np\n",
    "import math"
   ]
  },
  {
   "cell_type": "markdown",
   "id": "a5c4be50-79a0-471e-a4b5-d0c0353775d3",
   "metadata": {},
   "source": [
    "## 1. Python Basics"
   ]
  },
  {
   "cell_type": "code",
   "execution_count": 2,
   "id": "52560243-fdba-4bdf-8b0a-00bc3a104bb6",
   "metadata": {},
   "outputs": [
    {
     "name": "stdout",
     "output_type": "stream",
     "text": [
      "Hello World\n"
     ]
    }
   ],
   "source": [
    "# printing hello world\n",
    "print(\"Hello World\")"
   ]
  },
  {
   "cell_type": "code",
   "execution_count": 3,
   "id": "c815fa14-17bf-45f0-9277-2860a3e5a31b",
   "metadata": {},
   "outputs": [
    {
     "name": "stdout",
     "output_type": "stream",
     "text": [
      "5 My name is Aaditi. 3.2\n"
     ]
    }
   ],
   "source": [
    "# variables and data types (int, float, str, bool)\n",
    "x = 5\n",
    "y = \"My name is Aaditi.\"\n",
    "z = 3.2 \n",
    "print (x,y,z)"
   ]
  },
  {
   "cell_type": "code",
   "execution_count": 4,
   "id": "4f9edeb2-a458-496d-980b-5f0897b086d4",
   "metadata": {},
   "outputs": [
    {
     "name": "stdin",
     "output_type": "stream",
     "text": [
      "Enter your name:  Aaditi\n"
     ]
    },
    {
     "name": "stdout",
     "output_type": "stream",
     "text": [
      "Hi Aaditi !\n"
     ]
    }
   ],
   "source": [
    "# Basic input/output function\n",
    "#Str\n",
    "a = input(\"Enter your name: \")\n",
    "print(\"Hi\", a, \"!\")"
   ]
  },
  {
   "cell_type": "code",
   "execution_count": 5,
   "id": "85561de6-6947-40c2-9312-ba193e032870",
   "metadata": {},
   "outputs": [
    {
     "name": "stdin",
     "output_type": "stream",
     "text": [
      "Enter a number: 2\n"
     ]
    },
    {
     "name": "stdout",
     "output_type": "stream",
     "text": [
      "You've entered the number 2\n"
     ]
    }
   ],
   "source": [
    "# int\n",
    "b = int(input(\"Enter a number:\"))\n",
    "print(\"You've entered the number\", b)"
   ]
  },
  {
   "cell_type": "code",
   "execution_count": 6,
   "id": "0424ac44-e6e0-48f3-aad0-ead335d59892",
   "metadata": {},
   "outputs": [
    {
     "name": "stdin",
     "output_type": "stream",
     "text": [
      "Enter a decimal number: 1.2\n"
     ]
    },
    {
     "name": "stdout",
     "output_type": "stream",
     "text": [
      "The number is : 1.2\n"
     ]
    }
   ],
   "source": [
    "# float\n",
    "c = float(input(\"Enter a decimal number:\"))\n",
    "print(\"The number is :\", c)"
   ]
  },
  {
   "cell_type": "code",
   "execution_count": 7,
   "id": "2e993831-be5e-4c65-851d-67a1134a0906",
   "metadata": {},
   "outputs": [
    {
     "name": "stdin",
     "output_type": "stream",
     "text": [
      "Enter something: bye\n"
     ]
    },
    {
     "name": "stdout",
     "output_type": "stream",
     "text": [
      "The result is: True\n"
     ]
    }
   ],
   "source": [
    "#bool\n",
    "d = bool(input(\"Enter something:\"))\n",
    "print(\"The result is:\", d)"
   ]
  },
  {
   "cell_type": "code",
   "execution_count": 12,
   "id": "33416f6e-b8f7-4359-a086-27717748696e",
   "metadata": {},
   "outputs": [
    {
     "name": "stdout",
     "output_type": "stream",
     "text": [
      "<class 'int'>\n",
      "4.0\n",
      "<class 'float'>\n",
      "1\n",
      "<class 'int'>\n"
     ]
    }
   ],
   "source": [
    "# Type casting and conversion\n",
    "#1.\n",
    "num = 7\n",
    "print(type(num))\n",
    "#2.\n",
    "a = 4\n",
    "n = float(a)\n",
    "print(n)\n",
    "print(type(n))\n",
    "#3.\n",
    "b = \"1\"\n",
    "n = int(b)\n",
    "print(n)\n",
    "print(type(n))"
   ]
  },
  {
   "cell_type": "code",
   "execution_count": 13,
   "id": "c036ca1c-117d-4514-9af7-9801c60eebf3",
   "metadata": {},
   "outputs": [
    {
     "name": "stdout",
     "output_type": "stream",
     "text": [
      "Addition: 14\n",
      "Subtraction: 10\n",
      "Multiplication: 24\n",
      "Division: 6.0\n",
      "Floor Divison : 6\n",
      "Modulus: 0\n",
      "Exponential: 144\n"
     ]
    }
   ],
   "source": [
    "# operators\n",
    "#1. Arithmetic operator\n",
    "m = 12\n",
    "n = 2\n",
    "\n",
    "print (\"Addition:\", m+n)\n",
    "print (\"Subtraction:\", m-n)\n",
    "print (\"Multiplication:\", m*n)\n",
    "print (\"Division:\", m/n)\n",
    "print (\"Floor Divison :\", m//n)\n",
    "print (\"Modulus:\", m%n)\n",
    "print(\"Exponential:\", m**n)"
   ]
  },
  {
   "cell_type": "code",
   "execution_count": 14,
   "id": "c32c453a-0d28-4740-a2d6-5aeeca2fd3e4",
   "metadata": {},
   "outputs": [
    {
     "name": "stdout",
     "output_type": "stream",
     "text": [
      "False\n",
      "True\n",
      "False\n",
      "True\n",
      "False\n",
      "True\n"
     ]
    }
   ],
   "source": [
    "#2. Comparison \n",
    "a = 2\n",
    "b = 5\n",
    "\n",
    "print(a > b)\n",
    "print(a < b)\n",
    "print(a == b)\n",
    "print(a != b)\n",
    "print(a >= b)\n",
    "print(a <= b)"
   ]
  },
  {
   "cell_type": "code",
   "execution_count": 15,
   "id": "95e00ae8-f5b2-49a6-b4a6-fc92e94bf1d7",
   "metadata": {},
   "outputs": [],
   "source": [
    "# Logical Operator"
   ]
  },
  {
   "cell_type": "code",
   "execution_count": null,
   "id": "3a1ac0a7-be2a-4c8b-99d1-0baff781216c",
   "metadata": {},
   "outputs": [],
   "source": []
  },
  {
   "cell_type": "code",
   "execution_count": 16,
   "id": "62d0c0fb-7f4c-483b-a085-71c56b8f1c6f",
   "metadata": {},
   "outputs": [
    {
     "name": "stdout",
     "output_type": "stream",
     "text": [
      "Does 14 lie between p and q?: True\n",
      "Suitable?: True\n",
      "Is the condition true?: False\n"
     ]
    }
   ],
   "source": [
    "p = 10\n",
    "q = 15\n",
    "\n",
    "print(f\"Does 14 lie between p and q?: {14 > p and 14 < q}\")\n",
    "\n",
    "print(f\"Suitable?: {14 < p or 14 < q}\")\n",
    "\n",
    "print(f\"Is the condition true?: {not (14 > p and 14 < q)}\")\n"
   ]
  },
  {
   "cell_type": "markdown",
   "id": "702f8a16-977f-44f7-9b0d-2c5b537332c0",
   "metadata": {},
   "source": [
    "## 2. Control Flow"
   ]
  },
  {
   "cell_type": "code",
   "execution_count": 17,
   "id": "93156952-f6d8-4f6a-872e-4b573d0c757a",
   "metadata": {},
   "outputs": [
    {
     "name": "stdout",
     "output_type": "stream",
     "text": [
      "number isn't 1, 2 or 3\n"
     ]
    }
   ],
   "source": [
    "# if, elif, else statements\n",
    "num = \"A\"\n",
    "if num == \"2\":\n",
    "    print(\"num is 2\")\n",
    "\n",
    "elif num == \"3\":\n",
    "    print(\"letter is 3\")\n",
    "\n",
    "elif num == \"1\":\n",
    "    print(\"letter is 1\")\n",
    "\n",
    "else:\n",
    "    print(\"number isn't 1, 2 or 3\")"
   ]
  },
  {
   "cell_type": "code",
   "execution_count": 18,
   "id": "0c0da55f-2fb3-4836-8c54-5c73e96c661d",
   "metadata": {},
   "outputs": [
    {
     "name": "stdout",
     "output_type": "stream",
     "text": [
      "The person is an Adult.\n"
     ]
    }
   ],
   "source": [
    "# Nested conditions\n",
    "age = 19\n",
    "member = True\n",
    "\n",
    "if age > 18:\n",
    "    if member:\n",
    "        print(\"The person is an Adult.\")\n",
    "    else:\n",
    "        print(\"The person is a minor.\")\n",
    "else:\n",
    "    print(\"The person is a minor.\")"
   ]
  },
  {
   "cell_type": "code",
   "execution_count": 19,
   "id": "56cb740c-7c87-4c72-9f8c-72a447a08a21",
   "metadata": {},
   "outputs": [
    {
     "name": "stdout",
     "output_type": "stream",
     "text": [
      "Negative\n"
     ]
    }
   ],
   "source": [
    "i = -1; \n",
    "if i != 0:\n",
    "    if i > 0:\n",
    "        print(\"Positive\")\n",
    "    if i < 0:\n",
    "        print(\"Negative\")\n",
    "else:\n",
    "    print(\"Zero\")"
   ]
  },
  {
   "cell_type": "code",
   "execution_count": 20,
   "id": "6c875b31-c40d-4971-bc05-8b3cc66d8f67",
   "metadata": {},
   "outputs": [
    {
     "name": "stdout",
     "output_type": "stream",
     "text": [
      "You can enter the theater.\n",
      "You may be allowed in (with adult or pass).\n",
      "Thanks for having your ticket!\n"
     ]
    }
   ],
   "source": [
    "# Boolean logic\n",
    "age = 14\n",
    "ticket = True\n",
    "\n",
    "# Using AND\n",
    "if age >= 13 and ticket:\n",
    "    print(\"You can enter the theater.\")\n",
    "else:\n",
    "    print(\"You cannot enter the theater.\")\n",
    "\n",
    "# Using OR\n",
    "if age >= 18 or ticket:\n",
    "    print(\"You may be allowed in (with adult or pass).\")\n",
    "\n",
    "# Using NOT\n",
    "if not ticket:\n",
    "    print(\"You need a ticket to enter.\")\n",
    "else:\n",
    "    print(\"Thanks for having your ticket!\")\n"
   ]
  },
  {
   "cell_type": "markdown",
   "id": "ecd5e240-25e2-4281-99be-c2d5f777ab42",
   "metadata": {},
   "source": [
    "## 3. Loops"
   ]
  },
  {
   "cell_type": "code",
   "execution_count": 21,
   "id": "4f33753c-84cd-440f-bfb5-aa5074531b17",
   "metadata": {},
   "outputs": [
    {
     "name": "stdout",
     "output_type": "stream",
     "text": [
      "Number: 1\n",
      "Number: 2\n",
      "Number: 3\n",
      "Number: 4\n",
      "Number: 5\n",
      "Number: 6\n",
      "Number: 7\n",
      "Number: 8\n",
      "Number: 9\n"
     ]
    }
   ],
   "source": [
    "# for loop\n",
    "for i in range(1, 10):\n",
    "    print(f\"Number: {i}\")"
   ]
  },
  {
   "cell_type": "code",
   "execution_count": 22,
   "id": "d8e99558-ab5d-4294-bb01-318fc11bf8ae",
   "metadata": {},
   "outputs": [
    {
     "name": "stdout",
     "output_type": "stream",
     "text": [
      "Number: 1\n",
      "Number: 2\n",
      "Number: 3\n",
      "Number: 4\n",
      "Number: 5\n",
      "Number: 6\n",
      "Number: 7\n",
      "Number: 8\n",
      "Number: 9\n",
      "Number: 10\n"
     ]
    }
   ],
   "source": [
    "# while loop\n",
    "i = 1\n",
    "while i <= 10:\n",
    "    print(f\"Number: {i}\")\n",
    "    i += 1  \n"
   ]
  },
  {
   "cell_type": "code",
   "execution_count": 23,
   "id": "b2c2d905-0ee3-4540-8b2d-794a353201a5",
   "metadata": {},
   "outputs": [
    {
     "name": "stdout",
     "output_type": "stream",
     "text": [
      "1\n",
      "2\n"
     ]
    }
   ],
   "source": [
    "# break \n",
    "for i in range(1, 6):\n",
    "    if i == 2:\n",
    "        print( i)\n",
    "        break  \n",
    "    print(i)\n"
   ]
  },
  {
   "cell_type": "code",
   "execution_count": 24,
   "id": "ad87048e-05a5-43a6-8d7c-f1e471c5712b",
   "metadata": {},
   "outputs": [
    {
     "name": "stdout",
     "output_type": "stream",
     "text": [
      "1\n",
      "2\n",
      "3\n",
      "4\n",
      "5\n"
     ]
    }
   ],
   "source": [
    "# continuous\n",
    "for i in range(1, 6):\n",
    "    if i == 4:\n",
    "        print( i)\n",
    "        continue  \n",
    "    print(i)"
   ]
  },
  {
   "cell_type": "code",
   "execution_count": 25,
   "id": "25fc78dd-2815-47c7-980a-03547cee85da",
   "metadata": {},
   "outputs": [
    {
     "name": "stdout",
     "output_type": "stream",
     "text": [
      "1\n",
      "2\n",
      "3\n"
     ]
    }
   ],
   "source": [
    "#pass\n",
    "for i in range(1, 4):\n",
    "    if i == 2:\n",
    "        pass  # placeholder, no action\n",
    "    print(i)"
   ]
  },
  {
   "cell_type": "code",
   "execution_count": 26,
   "id": "f49017e3-7c3d-445e-a173-a1b5a728eabf",
   "metadata": {},
   "outputs": [
    {
     "name": "stdout",
     "output_type": "stream",
     "text": [
      "0 Sam\n",
      "1 Rose\n",
      "2 Nat\n"
     ]
    }
   ],
   "source": [
    "# Looping with range(), enumerate(), and zip()\n",
    "# enumerate\n",
    "name = [\"Sam\", \"Rose\", \"Nat\"]\n",
    "for i, j in enumerate(name):\n",
    "    print (i, j)"
   ]
  },
  {
   "cell_type": "code",
   "execution_count": 27,
   "id": "a5ee10e0-6d1b-4ef1-b034-213b4fcf5564",
   "metadata": {},
   "outputs": [
    {
     "name": "stdout",
     "output_type": "stream",
     "text": [
      "Sam : 86\n",
      "Rose : 85\n",
      "Nat : 82\n"
     ]
    }
   ],
   "source": [
    "# zip\n",
    "names = ['Sam', 'Rose', 'Nat']\n",
    "scores = [86, 85, 82]\n",
    "\n",
    "for name, score in zip(names, scores):\n",
    "    print(f\"{name} : {score}\")"
   ]
  },
  {
   "cell_type": "markdown",
   "id": "5dc979d0-0306-4512-a911-f3eb31555a70",
   "metadata": {},
   "source": [
    "## 4. Data Structure"
   ]
  },
  {
   "cell_type": "code",
   "execution_count": 28,
   "id": "f9cb6e28-8792-475d-be94-c1203b53547d",
   "metadata": {},
   "outputs": [
    {
     "name": "stdout",
     "output_type": "stream",
     "text": [
      "[1, 2, 3, 4, 5]\n",
      "['Adi', 'sam', 'pandu', 'nat']\n",
      "[1, 'hi', 2, True]\n"
     ]
    }
   ],
   "source": [
    "# Lists\n",
    "a = [1,2,3,4,5]\n",
    "b = [\"Adi\", \"sam\", \"pandu\", \"nat\"]\n",
    "c = [1, \"hi\", 2, True]\n",
    "print(a)\n",
    "print(b)\n",
    "print(c)"
   ]
  },
  {
   "cell_type": "code",
   "execution_count": 29,
   "id": "bb634807-ce9f-4402-aa33-06e4d485de61",
   "metadata": {},
   "outputs": [
    {
     "name": "stdout",
     "output_type": "stream",
     "text": [
      "((1, 2, 3), ('aarav', 'basu', 'suman'))\n"
     ]
    }
   ],
   "source": [
    "# Tuples\n",
    "t1 = (1,2,3)\n",
    "t2 = (\"aarav\",\"basu\", \"suman\")\n",
    "t3 = (t1, t2)\n",
    "print(t3)"
   ]
  },
  {
   "cell_type": "code",
   "execution_count": 30,
   "id": "f853273e-240a-472b-9696-b37738866f0a",
   "metadata": {},
   "outputs": [
    {
     "name": "stdout",
     "output_type": "stream",
     "text": [
      "{1: 'Aaditi', 2: 'Aarav', 3: 'Aman'}\n"
     ]
    }
   ],
   "source": [
    "# Dictionary\n",
    "a = {1: \"Aaditi\", 2: \"Aarav\", 3: \"Aman\"}\n",
    "print(a)"
   ]
  },
  {
   "cell_type": "code",
   "execution_count": 31,
   "id": "79f20348-88c0-42ce-a3a7-83147d407975",
   "metadata": {},
   "outputs": [
    {
     "name": "stdout",
     "output_type": "stream",
     "text": [
      "{1, 2, 3, 4}\n"
     ]
    }
   ],
   "source": [
    "# sets\n",
    "s = {1,2,3,4}\n",
    "print(s)"
   ]
  },
  {
   "cell_type": "code",
   "execution_count": 32,
   "id": "f412f8aa-5877-4142-8ca8-347141d2ad5c",
   "metadata": {},
   "outputs": [
    {
     "name": "stdout",
     "output_type": "stream",
     "text": [
      "[1, 4, 9, 16]\n"
     ]
    }
   ],
   "source": [
    "#comprehensions\n",
    "#list\n",
    "a = [x**2 for x in range(1, 5)]\n",
    "print(a)"
   ]
  },
  {
   "cell_type": "code",
   "execution_count": 33,
   "id": "34a5cae6-2bff-4c99-9a8b-6f3aa71a2dd3",
   "metadata": {},
   "outputs": [
    {
     "name": "stdout",
     "output_type": "stream",
     "text": [
      "{1: 1, 2: 4, 3: 9, 4: 16}\n"
     ]
    }
   ],
   "source": [
    "#dict \n",
    "b = {x: x**2 for x in range(1, 5)}\n",
    "print(b)"
   ]
  },
  {
   "cell_type": "code",
   "execution_count": 34,
   "id": "81a61e4f-6a48-4afc-a961-43ca0fd0ad5e",
   "metadata": {},
   "outputs": [
    {
     "name": "stdout",
     "output_type": "stream",
     "text": [
      "{16, 1, 4, 9}\n"
     ]
    }
   ],
   "source": [
    "#set \n",
    "c = {x**2 for x in [1, 2, 2, 3, 3, 4]}\n",
    "print(c)"
   ]
  },
  {
   "cell_type": "code",
   "execution_count": 35,
   "id": "58786e69-02c7-4aab-91f4-2e4901870f49",
   "metadata": {},
   "outputs": [
    {
     "name": "stdout",
     "output_type": "stream",
     "text": [
      "blue\n",
      "purple\n"
     ]
    }
   ],
   "source": [
    "# Baisc Operations\n",
    "f = ['red', 'blue', 'brown', 'yellow', 'purple']\n",
    "print(f[1])\n",
    "print(f[4]) #indexing"
   ]
  },
  {
   "cell_type": "code",
   "execution_count": 36,
   "id": "8787c5d1-433d-41f4-86a6-d0645df5f840",
   "metadata": {},
   "outputs": [
    {
     "name": "stdout",
     "output_type": "stream",
     "text": [
      "['blue', 'brown', 'yellow', 'purple']\n",
      "['red', 'blue', 'brown', 'yellow']\n"
     ]
    }
   ],
   "source": [
    "print(f[1:5])\n",
    "print(f[:4]) #slicing"
   ]
  },
  {
   "cell_type": "code",
   "execution_count": 37,
   "id": "4beba48c-5fa9-4619-9e18-834257440ccd",
   "metadata": {},
   "outputs": [
    {
     "name": "stdout",
     "output_type": "stream",
     "text": [
      "['red', 'blue', 'brown', 'beige', 'purple']\n"
     ]
    }
   ],
   "source": [
    "f[3] = 'beige'\n",
    "print(f) #updating"
   ]
  },
  {
   "cell_type": "code",
   "execution_count": 38,
   "id": "0a7a62c8-db2c-45ac-a44d-cab0941aa578",
   "metadata": {},
   "outputs": [
    {
     "name": "stdout",
     "output_type": "stream",
     "text": [
      "['red', 'brown', 'beige', 'purple']\n"
     ]
    }
   ],
   "source": [
    "del f[1] #deleting\n",
    "print(f)"
   ]
  },
  {
   "cell_type": "markdown",
   "id": "9a3b91a9-d639-4341-b5b2-49acb081fc33",
   "metadata": {},
   "source": [
    "## 5. Functions"
   ]
  },
  {
   "cell_type": "code",
   "execution_count": 39,
   "id": "0520d213-8b00-4e14-9580-908508a64da6",
   "metadata": {},
   "outputs": [
    {
     "name": "stdout",
     "output_type": "stream",
     "text": [
      "Hello World!!\n"
     ]
    }
   ],
   "source": [
    "def function():\n",
    "    print(\"Hello World!!\")\n",
    "\n",
    "function()"
   ]
  },
  {
   "cell_type": "code",
   "execution_count": 40,
   "id": "918e701f-183e-4c48-b314-f8be226a85a9",
   "metadata": {},
   "outputs": [
    {
     "name": "stdout",
     "output_type": "stream",
     "text": [
      "Even\n",
      "Odd\n"
     ]
    }
   ],
   "source": [
    "# Arguments (Default arguments, keyword arguments, positional argument, arbitrary arguments)\n",
    "def evenOdd(x):\n",
    "    if (x % 2 == 0):\n",
    "        return \"Even\"\n",
    "    else:\n",
    "        return \"Odd\"\n",
    "\n",
    "print(evenOdd(16))\n",
    "print(evenOdd(7))"
   ]
  },
  {
   "cell_type": "code",
   "execution_count": 41,
   "id": "2993f9aa-5b2a-47b2-bce4-8b10da1dd03f",
   "metadata": {},
   "outputs": [
    {
     "name": "stdout",
     "output_type": "stream",
     "text": [
      "x:  10\n",
      "y:  50\n"
     ]
    }
   ],
   "source": [
    "# Default arguments\n",
    "def a(x, y=50):\n",
    "    print(\"x: \", x)\n",
    "    print(\"y: \", y)\n",
    "a(10)"
   ]
  },
  {
   "cell_type": "code",
   "execution_count": 42,
   "id": "9b599094-4676-476c-9bba-bf7288aec41f",
   "metadata": {},
   "outputs": [
    {
     "name": "stdout",
     "output_type": "stream",
     "text": [
      "Aaditi Ghimire\n",
      "Aaditi Ghimire\n"
     ]
    }
   ],
   "source": [
    "# keyword arguments\n",
    "def s(fname, lname):\n",
    "    print(fname, lname)\n",
    "\n",
    "s(fname='Aaditi', lname='Ghimire')\n",
    "s(lname='Ghimire', fname='Aaditi')"
   ]
  },
  {
   "cell_type": "code",
   "execution_count": 43,
   "id": "221c3978-5b96-47fc-88ad-99afbdc6e98d",
   "metadata": {},
   "outputs": [
    {
     "name": "stdout",
     "output_type": "stream",
     "text": [
      "Hi, I am Aaditi\n",
      "My age is  20\n"
     ]
    }
   ],
   "source": [
    "#positional argument\n",
    "def n(name, age):\n",
    "    print(\"Hi, I am\", name)\n",
    "    print(\"My age is \", age)\n",
    "\n",
    "n(\"Aaditi\", 20)\n"
   ]
  },
  {
   "cell_type": "code",
   "execution_count": 44,
   "id": "a11019c3-0faf-487b-9200-70727d335438",
   "metadata": {},
   "outputs": [
    {
     "name": "stdout",
     "output_type": "stream",
     "text": [
      "Hello\n",
      "Welcome\n",
      "to\n",
      "GeeksforGeeks\n"
     ]
    }
   ],
   "source": [
    "# Arbitrary arguments\n",
    "# *args and **kwargs\n",
    "def a(*argv):\n",
    "    for arg in argv:\n",
    "        print(arg)\n",
    "a('Hello', 'Welcome', 'to', 'GeeksforGeeks')"
   ]
  },
  {
   "cell_type": "code",
   "execution_count": 45,
   "id": "da9091b3-a7c1-4ed4-b611-136548b0cb5b",
   "metadata": {},
   "outputs": [
    {
     "name": "stdout",
     "output_type": "stream",
     "text": [
      "first == Geeks\n",
      "mid == for\n",
      "last == Geeks\n"
     ]
    }
   ],
   "source": [
    "def b(**kwargs):\n",
    "    for key, value in kwargs.items():\n",
    "        print(\"%s == %s\" % (key, value))\n",
    "\n",
    "b(first='Geeks', mid='for', last='Geeks')"
   ]
  },
  {
   "cell_type": "code",
   "execution_count": 46,
   "id": "28897bf4-f748-4d3e-a0f6-a7df4a31a806",
   "metadata": {},
   "outputs": [
    {
     "name": "stdout",
     "output_type": "stream",
     "text": [
      "True\n",
      "False\n"
     ]
    }
   ],
   "source": [
    "# Lambda Function\n",
    "even = lambda x: x % 2 == 0\n",
    "print(even(4))\n",
    "print(even(7))  "
   ]
  },
  {
   "cell_type": "code",
   "execution_count": 47,
   "id": "03801ae9-221e-4a79-8cd0-313fcbc4c4eb",
   "metadata": {},
   "outputs": [
    {
     "name": "stdout",
     "output_type": "stream",
     "text": [
      "[1, 4, 9, 16]\n"
     ]
    }
   ],
   "source": [
    "#map\n",
    "nums = [1, 2, 3, 4]\n",
    "s = list(map(lambda x: x**2, nums))\n",
    "print(s)  "
   ]
  },
  {
   "cell_type": "code",
   "execution_count": 48,
   "id": "116877d4-2c51-45fc-b63d-5c086fa0fe57",
   "metadata": {},
   "outputs": [
    {
     "name": "stdout",
     "output_type": "stream",
     "text": [
      "[2, 8, 10]\n"
     ]
    }
   ],
   "source": [
    "#filter\n",
    "n = [2,3,7,8,10,13]\n",
    "even_n = list(filter(lambda x: x % 2 == 0, n))\n",
    "print(even_n)  "
   ]
  },
  {
   "cell_type": "code",
   "execution_count": 49,
   "id": "4577fd47-a380-4294-a4e6-7cc1b0ad5362",
   "metadata": {},
   "outputs": [
    {
     "name": "stdout",
     "output_type": "stream",
     "text": [
      "[('Nat', 17), ('Aditi', 18), ('Sam', 19), ('Rose', 20)]\n"
     ]
    }
   ],
   "source": [
    "# Sorted\n",
    "s = [('Aditi', 18), ('Rose', 20),('Sam', 19), ('Nat', 17)]\n",
    "sorted_s = sorted(s, key=lambda x: x[1])  # sort by age\n",
    "print(sorted_s)"
   ]
  },
  {
   "cell_type": "code",
   "execution_count": 50,
   "id": "1fcbfd2f-ee84-4820-8b7d-e98b6bbfdec4",
   "metadata": {},
   "outputs": [
    {
     "name": "stdout",
     "output_type": "stream",
     "text": [
      "Inside function: Rose\n",
      "Outside function: Aaditi\n"
     ]
    }
   ],
   "source": [
    "# Scope and global keyword\n",
    "#local variable and global variabel\n",
    "name = \"Aaditi\"\n",
    "\n",
    "def greet():\n",
    "    # Local variable \n",
    "    name = \"Rose\"\n",
    "    print(\"Inside function:\", name)\n",
    "greet()\n",
    "\n",
    "# global variable\n",
    "print(\"Outside function:\", name)\n"
   ]
  },
  {
   "cell_type": "markdown",
   "id": "b40d3758-909d-425c-9a41-11ca06be933e",
   "metadata": {},
   "source": [
    "## 6.Basic String and File Operations\n"
   ]
  },
  {
   "cell_type": "code",
   "execution_count": 51,
   "id": "afb84154-6406-4bf7-acdd-2844af53a03a",
   "metadata": {},
   "outputs": [
    {
     "name": "stdout",
     "output_type": "stream",
     "text": [
      "August 05, 2025\n",
      "My name is Aaditi and I am 20 years old.\n"
     ]
    }
   ],
   "source": [
    "# Prints today's date with help\n",
    "import datetime\n",
    "today = datetime.datetime.today()\n",
    "print(today.strftime(\"%B %d, %Y\")) # using f-strings\n",
    "name = \"Aaditi\"\n",
    "age = 20\n",
    "print(\"My name is {} and I am {} years old.\".format(name, age)) # using format"
   ]
  },
  {
   "cell_type": "code",
   "execution_count": 52,
   "id": "3270123d-8e3e-4895-af34-d5dc898409cc",
   "metadata": {},
   "outputs": [],
   "source": [
    "with open(\"example.txt\", \"w\") as file:\n",
    "    file.write(\"Hello Adi!\\n\")\n",
    "    file.write(\"This file was written using Python.\")"
   ]
  },
  {
   "cell_type": "code",
   "execution_count": 53,
   "id": "4f02eeac-2421-4b8c-a568-74cb366e8bb4",
   "metadata": {},
   "outputs": [
    {
     "name": "stdout",
     "output_type": "stream",
     "text": [
      "Hello Adi!\n",
      "This file was written using Python.\n"
     ]
    }
   ],
   "source": [
    "with open(\"example.txt\", \"r\") as file:\n",
    "    content = file.read()\n",
    "    print(content)"
   ]
  },
  {
   "cell_type": "code",
   "execution_count": 54,
   "id": "3463f7b1-a721-4ced-b855-dc802a504d21",
   "metadata": {},
   "outputs": [],
   "source": [
    "with open(\"example.txt\", \"a\") as file:\n",
    "    file.write(\"\\nThis line is appended at the end.\")"
   ]
  },
  {
   "cell_type": "code",
   "execution_count": 55,
   "id": "ef88284a-9b3d-4b72-8750-f147cc188ff9",
   "metadata": {},
   "outputs": [
    {
     "name": "stdout",
     "output_type": "stream",
     "text": [
      "Hello Adi!\n",
      "This file was written using Python.\n",
      "This line is appended at the end.\n"
     ]
    }
   ],
   "source": [
    "with open(\"example.txt\", \"r\") as file:\n",
    "    for line in file:\n",
    "        print(line.strip()) #reading line by line"
   ]
  },
  {
   "cell_type": "code",
   "execution_count": 56,
   "id": "153a37f7-ee48-44cf-acf6-2586031a371a",
   "metadata": {},
   "outputs": [
    {
     "name": "stdout",
     "output_type": "stream",
     "text": [
      "Before: Hello Adi!\n",
      "This file was written using Python.\n",
      "This line is appended at the end.\n"
     ]
    }
   ],
   "source": [
    "with open(\"example.txt\", \"r+\") as file:\n",
    "    print(\"Before:\", file.read())\n",
    "    file.write(\"\\nI am an AI/ML intern\")"
   ]
  },
  {
   "cell_type": "markdown",
   "id": "7f19f605-a6a2-4ad2-9328-b225ffa1f5cd",
   "metadata": {},
   "source": [
    "# Intermediate Level"
   ]
  },
  {
   "cell_type": "code",
   "execution_count": 58,
   "id": "86ddb986-137b-46a6-9687-7653400e2473",
   "metadata": {},
   "outputs": [],
   "source": [
    "def e(n):\n",
    "    if n > 18:\n",
    "        return \"Adult\"\n",
    "    else:\n",
    "        return \"Minor\""
   ]
  },
  {
   "cell_type": "code",
   "execution_count": null,
   "id": "f191a24a-16d3-4429-9e03-5bcc149f76aa",
   "metadata": {},
   "outputs": [],
   "source": []
  }
 ],
 "metadata": {
  "kernelspec": {
   "display_name": "Python 3 (ipykernel)",
   "language": "python",
   "name": "python3"
  },
  "language_info": {
   "codemirror_mode": {
    "name": "ipython",
    "version": 3
   },
   "file_extension": ".py",
   "mimetype": "text/x-python",
   "name": "python",
   "nbconvert_exporter": "python",
   "pygments_lexer": "ipython3",
   "version": "3.12.2"
  }
 },
 "nbformat": 4,
 "nbformat_minor": 5
}
