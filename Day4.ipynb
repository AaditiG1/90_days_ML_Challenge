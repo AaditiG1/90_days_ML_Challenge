{
 "cells": [
  {
   "cell_type": "markdown",
   "id": "c2ab54a9-6486-4efa-8d27-7855e108addc",
   "metadata": {},
   "source": [
    "# Type Hints and Annotations\n",
    "## Type Hints is a feature in Python which helps to improve code readability and provides an opportunity to catch errors before runtime using type checkers like mypy.\n"
   ]
  },
  {
   "cell_type": "code",
   "execution_count": 1,
   "id": "1794e596-4b38-4b90-9f46-3c8a16f9f355",
   "metadata": {},
   "outputs": [
    {
     "name": "stdout",
     "output_type": "stream",
     "text": [
      "Requirement already satisfied: mypy in c:\\users\\asus1\\appdata\\local\\programs\\python\\python312\\lib\\site-packages (1.17.1)\n",
      "Requirement already satisfied: typing_extensions>=4.6.0 in c:\\users\\asus1\\appdata\\local\\programs\\python\\python312\\lib\\site-packages (from mypy) (4.14.1)\n",
      "Requirement already satisfied: mypy_extensions>=1.0.0 in c:\\users\\asus1\\appdata\\local\\programs\\python\\python312\\lib\\site-packages (from mypy) (1.1.0)\n",
      "Requirement already satisfied: pathspec>=0.9.0 in c:\\users\\asus1\\appdata\\local\\programs\\python\\python312\\lib\\site-packages (from mypy) (0.12.1)\n"
     ]
    },
    {
     "name": "stderr",
     "output_type": "stream",
     "text": [
      "\n",
      "[notice] A new release of pip is available: 24.0 -> 25.2\n",
      "[notice] To update, run: python.exe -m pip install --upgrade pip\n"
     ]
    }
   ],
   "source": [
    "#Static type checking with mypy\n",
    "!pip install mypy"
   ]
  },
  {
   "cell_type": "code",
   "execution_count": 2,
   "id": "139b4d89-fc5b-497a-a7fe-bd295f7c53b2",
   "metadata": {},
   "outputs": [],
   "source": [
    "# Using typing module\n",
    "#List\n",
    "from typing import List\n",
    "\n",
    "numbers: List[int] = [1, 2, 3]\n",
    "names: List[str] = [\"A\", \"B\"]\n",
    "\n",
    "# Dict\n",
    "from typing import Dict\n",
    "\n",
    "person: Dict[str, int] = {\"age\": 20, \"height\": 168}\n",
    "\n",
    "# Union\n",
    "from typing import Union\n",
    "\n",
    "value: Union[int, str] = 42\n",
    "value = \"forty-two\"  # Also valid\n",
    "\n",
    "# Optional\n",
    "from typing import Optional\n",
    "\n",
    "nickname: Optional[str] = None\n",
    "nickname = \"Adi\"  # Also valid\n",
    "\n",
    "# Tuple\n",
    "from typing import Tuple\n",
    "\n",
    "user_info: Tuple[str, int] = (\"Alice\", 30)\n"
   ]
  },
  {
   "cell_type": "code",
   "execution_count": 3,
   "id": "fd634458-0a2e-4d22-b157-3cf3ad45eefb",
   "metadata": {},
   "outputs": [
    {
     "name": "stdin",
     "output_type": "stream",
     "text": [
      "Enter your name:  Adi\n",
      "Enter 3 numbers separated by spaces:  55 60 80\n",
      "Enter email username (leave blank for guest):  \n"
     ]
    },
    {
     "name": "stdout",
     "output_type": "stream",
     "text": [
      "Hello, Adi\n",
      "Average: 65.0\n",
      "Email: guest@example.com\n"
     ]
    }
   ],
   "source": [
    "## Code example for typing using list and optional\n",
    "from typing import List, Optional\n",
    "\n",
    "# Function to greet a person\n",
    "def greet(name: str) -> str:\n",
    "    return \"Hello, \" + name\n",
    "\n",
    "# Function to calculate the average of a list of numbers\n",
    "def average(numbers: List[int]) -> float:\n",
    "    return sum(numbers) / len(numbers)\n",
    "\n",
    "# Function that returns an email if provided, else a default one\n",
    "def get_email(username: Optional[str]) -> str:\n",
    "    if username is None or username.strip() == \"\":\n",
    "        return \"guest@example.com\"\n",
    "    return username + \"@example.com\"\n",
    "\n",
    "# ----------------------------\n",
    "# User Input Section\n",
    "# ----------------------------\n",
    "\n",
    "# Get name\n",
    "user_name = input(\"Enter your name: \")  # input() always returns str\n",
    "message = greet(user_name)\n",
    "\n",
    "# Get numbers for average\n",
    "number_input = input(\"Enter 3 numbers separated by spaces: \")\n",
    "number_list: List[int] = [int(num) for num in number_input.split()]\n",
    "\n",
    "# Get email username (optional)\n",
    "email_input = input(\"Enter email username (leave blank for guest): \")\n",
    "email = get_email(email_input)\n",
    "\n",
    "# ----------------------------\n",
    "# Output\n",
    "# ----------------------------\n",
    "\n",
    "print(message)\n",
    "print(\"Average:\", average(number_list))\n",
    "print(\"Email:\", email)\n"
   ]
  },
  {
   "cell_type": "code",
   "execution_count": 4,
   "id": "e9900f43-904f-435d-9b71-c15c6e4885c4",
   "metadata": {},
   "outputs": [
    {
     "name": "stdout",
     "output_type": "stream",
     "text": [
      "GfgArticle(title='DataClasses', author='vibhu4agarwal', language='Python', upvotes=0)\n"
     ]
    }
   ],
   "source": [
    "# Dataclasses\n",
    "# A basic Data Class\n",
    "\n",
    "# Importing dataclass module\n",
    "from dataclasses import dataclass\n",
    "\n",
    "@dataclass\n",
    "class GfgArticle(): #Without a __init__() constructor, the class accepted values and assigned it to appropriate variables.\n",
    "    \"\"\"A class for holding an article content\"\"\"\n",
    "\n",
    "    # Attributes Declaration\n",
    "    # using Type Hints\n",
    "\n",
    "    title: str\n",
    "    author: str\n",
    "    language: str\n",
    "    upvotes: int\n",
    "\n",
    "# A DataClass object\n",
    "article = GfgArticle(\"DataClasses\",\n",
    "                     \"vibhu4agarwal\",\n",
    "                     \"Python\", 0)\n",
    "print(article) #The output of printing object is a neat representation of the data present in it, without any explicit function coded to do this. That means it has a modified __repr__() function.\n"
   ]
  },
  {
   "cell_type": "code",
   "execution_count": 8,
   "id": "c3d0c13b-cbe7-421a-932a-72a48dc9f6f0",
   "metadata": {},
   "outputs": [
    {
     "name": "stdout",
     "output_type": "stream",
     "text": [
      "Student 1 Name: Adi\n",
      "Student 2 Email: aaditi00@example.com\n",
      "Student(name='Adi', age=20, grade=85.5, email=None)\n",
      "Are they same? False\n"
     ]
    }
   ],
   "source": [
    "# Example of dataclass\n",
    "from dataclasses import dataclass\n",
    "from typing import Optional\n",
    "\n",
    "# Define the dataclass\n",
    "@dataclass\n",
    "class Student:\n",
    "    name: str\n",
    "    age: int\n",
    "    grade: float\n",
    "    email: Optional[str] = None  # Optional field with default = None\n",
    "\n",
    "# Create student objects\n",
    "student1 = Student(\"Adi\", 20, 85.5)\n",
    "student2 = Student(\"Bina\", 19, 92.0, \"aaditi00@example.com\")\n",
    "\n",
    "# Accessing fields\n",
    "print(\"Student 1 Name:\", student1.name)\n",
    "print(\"Student 2 Email:\", student2.email)\n",
    "\n",
    "# Auto-generated __repr__\n",
    "print(student1)\n",
    "\n",
    "# Auto-generated __eq__\n",
    "print(\"Are they same?\", student1 == student2)"
   ]
  },
  {
   "cell_type": "code",
   "execution_count": null,
   "id": "ebe53798-6a97-4d6c-9d36-cc2a70bcd75a",
   "metadata": {},
   "outputs": [],
   "source": []
  }
 ],
 "metadata": {
  "kernelspec": {
   "display_name": "Python 3 (ipykernel)",
   "language": "python",
   "name": "python3"
  },
  "language_info": {
   "codemirror_mode": {
    "name": "ipython",
    "version": 3
   },
   "file_extension": ".py",
   "mimetype": "text/x-python",
   "name": "python",
   "nbconvert_exporter": "python",
   "pygments_lexer": "ipython3",
   "version": "3.12.2"
  }
 },
 "nbformat": 4,
 "nbformat_minor": 5
}
