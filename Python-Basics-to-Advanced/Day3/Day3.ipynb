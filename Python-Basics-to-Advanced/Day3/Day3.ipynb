{
 "cells": [
  {
   "cell_type": "markdown",
   "id": "3f7b6b29-67cd-445a-bade-64175291861f",
   "metadata": {},
   "source": [
    "## Multiple Inheritance\n",
    "### It is a feature in object-oriented programming where a class can inherit attributes and methods from more than one parent class.\n",
    "### It is used when a class logically needs to combine behaviors from multiple distinct base classes.\n",
    "### Used for : Code Reuse, Modular Design and Flexibility Architecture"
   ]
  },
  {
   "cell_type": "code",
   "execution_count": 2,
   "id": "b61d7469-6977-4df2-8eae-0bb95568ce20",
   "metadata": {},
   "outputs": [
    {
     "name": "stdout",
     "output_type": "stream",
     "text": [
      "My name is Adi\n",
      "I'm studying.\n",
      "My major is  AI\n"
     ]
    }
   ],
   "source": [
    "# Parent class 1\n",
    "class person:\n",
    "    def __init__(self, name: str):\n",
    "        self.name = name\n",
    "\n",
    "    def speak(self):\n",
    "        print(f\"My name is {self.name}\")\n",
    "\n",
    "# Parent class 2\n",
    "class std:\n",
    "    def study(self):\n",
    "        print(\"I'm studying.\")\n",
    "\n",
    "# Child class inherits from both Person and Student\n",
    "class CollegeStudent(person, std):\n",
    "    def __init__(self, name: str, major: str):\n",
    "        super().__init__(name) #super() helps call parent class constructor.\n",
    "        self.major = major\n",
    "\n",
    "    def show_major(self):\n",
    "        print(f\"My major is {self.major}\")\n",
    "\n",
    "# Create an object of CollegeStudent\n",
    "cs = CollegeStudent(\"Adi\", \" AI\")\n",
    "\n",
    "# Access methods from both parent classes\n",
    "cs.speak()        # From person\n",
    "cs.study()        # From Std\n",
    "cs.show_major()   # From CollegeStudent\n"
   ]
  },
  {
   "cell_type": "markdown",
   "id": "3edad33a-63cb-49e8-b6b7-9342287abfaa",
   "metadata": {},
   "source": [
    "## MRO (Method Resoultion Order) : \n",
    "### It defines the order in which Python looks for a method or attribute when it's called on an object especially important in multiple inheritance scenarios."
   ]
  },
  {
   "cell_type": "code",
   "execution_count": 6,
   "id": "6d24e9fd-68c7-40e7-b2b7-da49883fecb1",
   "metadata": {},
   "outputs": [
    {
     "name": "stdout",
     "output_type": "stream",
     "text": [
      "B\n"
     ]
    }
   ],
   "source": [
    "# Example\n",
    "class A:\n",
    "    def show(self):\n",
    "        print(\"A\")\n",
    "\n",
    "class B(A):\n",
    "    def show(self):\n",
    "        print(\"B\")\n",
    "\n",
    "class C(A):\n",
    "    def show(self):\n",
    "        print(\"C\")\n",
    "\n",
    "class D(B, C):  # Inherits from B first, then C\n",
    "    pass\n",
    "\n",
    "d = D()\n",
    "d.show()\n"
   ]
  },
  {
   "cell_type": "markdown",
   "id": "49fd8ed0-289a-4987-8dd0-d47cf549ab32",
   "metadata": {},
   "source": [
    "## Metaclass: \n",
    "### A metaclass in Python is a \"class of a class\" which defines how a class behaves.\n",
    "### __new__() is a special method that controls how a new object (or class) is created in Python."
   ]
  },
  {
   "cell_type": "code",
   "execution_count": 9,
   "id": "d8acbd33-ce3d-4caa-8895-76d5fe7ac7d6",
   "metadata": {},
   "outputs": [
    {
     "name": "stdout",
     "output_type": "stream",
     "text": [
      "Creating class MyClass\n"
     ]
    }
   ],
   "source": [
    "#Example\n",
    "# Define a metaclass\n",
    "class MyMeta(type):\n",
    "    def __new__(cls, name, bases, dct):\n",
    "        print(f\"Creating class {name}\")\n",
    "        return super().__new__(cls, name, bases, dct)\n",
    "\n",
    "# Create a class using that metaclass\n",
    "class MyClass(metaclass=MyMeta):\n",
    "    pass\n"
   ]
  },
  {
   "cell_type": "code",
   "execution_count": 16,
   "id": "baf1e2e1-845e-43da-883e-febdd3abc893",
   "metadata": {},
   "outputs": [
    {
     "name": "stdout",
     "output_type": "stream",
     "text": [
      "False\n",
      "True\n",
      "bar\n"
     ]
    }
   ],
   "source": [
    "## Use Case\n",
    "class a(type):\n",
    "    def __new__(cls, name, bases, dct):\n",
    "        uppercase_attrs = {\n",
    "            key.upper(): value for key, value in dct.items() if not key.startswith('__')\n",
    "        }\n",
    "        return super().__new__(cls, name, bases, uppercase_attrs)\n",
    "\n",
    "class b(metaclass=a):\n",
    "    Foo = 'bar'\n",
    "\n",
    "print(hasattr(b, 'foo'))      # False\n",
    "print(hasattr(b, 'FOO'))      # True\n",
    "print(Demo.FOO)                  # bar\n"
   ]
  },
  {
   "cell_type": "markdown",
   "id": "7f558e52-379d-4e37-865f-771db2c90fb9",
   "metadata": {},
   "source": [
    "## Properties\n",
    "\n",
    "## @property - Decorator in python\n",
    "\n",
    "### It allows you to define a method that can be accessed like an attribute. It’s used to control access to instance attributes in a clean, Pythonic way."
   ]
  },
  {
   "cell_type": "code",
   "execution_count": 57,
   "id": "b8c076b4-e8f8-4352-bbb5-519034abaad9",
   "metadata": {},
   "outputs": [
    {
     "name": "stdout",
     "output_type": "stream",
     "text": [
      "113.04\n"
     ]
    }
   ],
   "source": [
    "## Example\n",
    "class Circle:\n",
    "    def __init__(self, radius):\n",
    "        self._radius = radius\n",
    "\n",
    "    @property # converts method into read-only attribute\n",
    "    def area(self):\n",
    "        return 3.14 * self._radius ** 2\n",
    "\n",
    "c = Circle(6)\n",
    "print(c.area) "
   ]
  },
  {
   "cell_type": "markdown",
   "id": "0353ea30-6a6b-4f82-9ff6-e12e0638e5c3",
   "metadata": {},
   "source": [
    "## Threading\n",
    "### It is a technique that allows multiple tasks (threads) to run concurrently within the same process.\n",
    "### It is used when you want to run multiple tasks concurrently within the same program, for I/O-bound operations like file handling and When you need to keep a program responsive.\n"
   ]
  },
  {
   "cell_type": "code",
   "execution_count": 58,
   "id": "a1f26dd0-e2dd-4330-b00d-e70ba727a3c0",
   "metadata": {},
   "outputs": [
    {
     "name": "stdout",
     "output_type": "stream",
     "text": [
      "Number: 0\n",
      "Letter: A\n",
      "Number: 1\n",
      "Letter: B\n",
      "Number: 2\n",
      "Letter: C\n",
      "Number: 3\n",
      "Letter: D\n",
      "Letter: ENumber: 4\n",
      "\n",
      "Both threads have finished.\n"
     ]
    }
   ],
   "source": [
    "import threading\n",
    "import time\n",
    "\n",
    "# Define a function to run in a thread\n",
    "def print_numbers():\n",
    "    for i in range(5):\n",
    "        print(f\"Number: {i}\")\n",
    "        time.sleep(1)  # Pause for 1 second\n",
    "\n",
    "def print_letters():\n",
    "    for letter in ['A', 'B', 'C', 'D', 'E']:\n",
    "        print(f\"Letter: {letter}\")\n",
    "        time.sleep(1)  # Pause for 1 second\n",
    "\n",
    "# Create threads\n",
    "t1 = threading.Thread(target=print_numbers)\n",
    "t2 = threading.Thread(target=print_letters)\n",
    "\n",
    "# Start threads\n",
    "t1.start()\n",
    "t2.start()\n",
    "\n",
    "# Wait for both threads to finish\n",
    "t1.join()\n",
    "t2.join()\n",
    "\n",
    "print(\"Both threads have finished.\")\n"
   ]
  },
  {
   "cell_type": "markdown",
   "id": "d9914c16-81f4-44ad-834b-b1cf56656a8c",
   "metadata": {},
   "source": [
    "## Multiprocessing \n",
    "### It refers to the ability of a system to support more than one processor at the same time. \n",
    "### Why Multiprocessing : switch between multiple tasks, managing many tasks at once and improve efficiency and coordination."
   ]
  },
  {
   "cell_type": "code",
   "execution_count": 59,
   "id": "6317a3bb-c989-4ae5-b9a3-ebdf97d5710a",
   "metadata": {},
   "outputs": [
    {
     "name": "stdout",
     "output_type": "stream",
     "text": [
      "Starting processes...\n",
      "Both processes have finished. Done!\n"
     ]
    }
   ],
   "source": [
    "import multiprocessing\n",
    "\n",
    "# Function to print the square of a number\n",
    "def print_square(num: int) -> None:\n",
    "\n",
    "    # Function to print the square of the given number.\n",
    "    print(f\"[Square Process] Square of {num} is {num * num}\")\n",
    "\n",
    "# Function to print the cube of a number\n",
    "def print_cube(num: int) -> None:\n",
    "\n",
    "    # Function to print the cube of the given number.\n",
    "    \n",
    "    print(f\"[Cube Process] Cube of {num} is {num * num * num}\")\n",
    "\n",
    "# This check ensures the code only runs when the script is run directly\n",
    "if __name__ == \"__main__\":\n",
    "    # The number to be used in both functions\n",
    "    number = 10\n",
    "\n",
    "    # Create Process 1 to run print_square\n",
    "    p1 = multiprocessing.Process(target=print_square, args=(number,))\n",
    "\n",
    "    # Create Process 2 to run print_cube\n",
    "    p2 = multiprocessing.Process(target=print_cube, args=(number,))\n",
    "\n",
    "    # Start both processes\n",
    "    print(\"Starting processes...\")\n",
    "    p1.start()\n",
    "    p2.start()\n",
    "\n",
    "    # Wait for both processes to finish\n",
    "    p1.join()\n",
    "    p2.join()\n",
    "\n",
    "    # This runs after both processes are done\n",
    "    print(\"Both processes have finished. Done!\")\n"
   ]
  },
  {
   "cell_type": "markdown",
   "id": "fa984460-1e33-448b-815a-f95ac333f1af",
   "metadata": {},
   "source": [
    "# Asyncio :\n",
    "## It is a Python library used to write concurrent code using the async/await syntax.\n",
    "## Why Use Asyncio : \n",
    "### -> To efficiently handle high-level structured network code.\n",
    "### -> To avoid blocking the program while waiting for slow operations (e.g., file reads, network requests).\n",
    "### -> To improve performance and responsiveness without using multiple threads or processes.\n",
    "### -> Ideal for applications like web servers, network clients, or GUI apps."
   ]
  },
  {
   "cell_type": "code",
   "execution_count": 60,
   "id": "ba632346-7352-407e-89bc-d38363bc741a",
   "metadata": {},
   "outputs": [
    {
     "name": "stdout",
     "output_type": "stream",
     "text": [
      "This is \n",
      "Kylie Jenner\n",
      "and not Rose Khatiwada\n"
     ]
    }
   ],
   "source": [
    "# Async and await\n",
    "import asyncio\n",
    "\n",
    "async def fn():\n",
    "    print('This is ')\n",
    "    await asyncio.sleep(1)\n",
    "    print('Kylie Jenner')\n",
    "    await asyncio.sleep(1)\n",
    "    print('and not Rose Khatiwada')\n",
    "await fn()"
   ]
  },
  {
   "cell_type": "code",
   "execution_count": 61,
   "id": "3b1e2492-bef1-48b9-a462-e99b71421aa6",
   "metadata": {},
   "outputs": [
    {
     "name": "stdout",
     "output_type": "stream",
     "text": [
      "Received: 1\n",
      "Received: 2\n",
      "Received: 3\n"
     ]
    }
   ],
   "source": [
    "# async for \n",
    "import asyncio\n",
    "\n",
    "class AsyncCounter:\n",
    "    def __init__(self):\n",
    "        self.count = 0\n",
    "\n",
    "    # This must be a normal def, not async def\n",
    "    def __aiter__(self):\n",
    "        return self\n",
    "\n",
    "    async def __anext__(self):\n",
    "        if self.count >= 3:\n",
    "            raise StopAsyncIteration\n",
    "        await asyncio.sleep(1)\n",
    "        self.count += 1\n",
    "        return self.count\n",
    "\n",
    "async def main():\n",
    "    async for number in AsyncCounter():\n",
    "        print(f\"Received: {number}\")\n",
    "\n",
    "# For Jupyter or IPython\n",
    "await main()\n"
   ]
  },
  {
   "cell_type": "code",
   "execution_count": 62,
   "id": "9bb5fd6e-e94a-41a8-8afb-f7399256edcf",
   "metadata": {
    "scrolled": true
   },
   "outputs": [
    {
     "name": "stdout",
     "output_type": "stream",
     "text": [
      "Requirement already satisfied: aiofiles in c:\\users\\asus1\\appdata\\local\\programs\\python\\python312\\lib\\site-packages (24.1.0)\n",
      "Hello Adi!\n",
      "This file was written using Python.\n",
      "This line is appended at the end.\n",
      "I am an AI/ML intern\n"
     ]
    },
    {
     "name": "stderr",
     "output_type": "stream",
     "text": [
      "\n",
      "[notice] A new release of pip is available: 24.0 -> 25.2\n",
      "[notice] To update, run: python.exe -m pip install --upgrade pip\n"
     ]
    }
   ],
   "source": [
    "# async with \n",
    "\n",
    "!pip install aiofiles\n",
    "import aiofiles  # Needs: pip install aiofiles\n",
    "import asyncio\n",
    "\n",
    "async def read_file():\n",
    "    async with aiofiles.open('example.txt', mode='r') as f:\n",
    "        content = await f.read()\n",
    "        print(content)\n",
    "\n",
    "await read_file()"
   ]
  },
  {
   "cell_type": "markdown",
   "id": "7aadb9a6-b070-4ecb-ad04-18e2bad4bdf5",
   "metadata": {},
   "source": [
    "## Queues and Synchronization\n",
    "### Queue: A queue is a data structure that follows FIFO (First-In-First-Out) principle.\n",
    "### Why use Queue:\n",
    "#### -> To share data safely between multiple threads or processes.\n",
    "#### -> To avoid race conditions by providing a synchronized way to enqueue/dequeue items.\n",
    "#### -> To implement producer-consumer patterns, where some threads produce data and others consume it.\n",
    "\n"
   ]
  },
  {
   "cell_type": "code",
   "execution_count": 63,
   "id": "95137b83-9162-46bd-b0f5-f0595c82c968",
   "metadata": {},
   "outputs": [
    {
     "name": "stdout",
     "output_type": "stream",
     "text": [
      "Producer: producing item 0\n",
      "Consumer: consumed item 0\n",
      "All tasks completed.\n",
      "Producer: producing item 1\n",
      "Consumer: consumed item 1\n",
      "Producer: producing item 2\n",
      "Consumer: consumed item 2\n",
      "Producer: producing item 3\n",
      "Consumer: consumed item 3\n",
      "Producer: producing item 4\n",
      "Consumer: consumed item 4\n"
     ]
    }
   ],
   "source": [
    "# Example\n",
    "import threading\n",
    "import queue\n",
    "import time\n",
    "\n",
    "# Create a queue for communication between threads\n",
    "q = queue.Queue()\n",
    "\n",
    "# Producer thread function: puts items into the queue\n",
    "def producer():\n",
    "    for i in range(5):\n",
    "        print(f\"Producer: producing item {i}\")\n",
    "        q.put(i)\n",
    "        time.sleep(1)  # Simulate work\n",
    "\n",
    "# Consumer thread function: takes items from the queue\n",
    "def consumer():\n",
    "    while True:\n",
    "        item = q.get()  # Blocks until item is available\n",
    "        print(f\"Consumer: consumed item {item}\")\n",
    "        q.task_done()   # Signal that task is done\n",
    "        if item == 4:   # Exit condition\n",
    "            break\n",
    "\n",
    "# Create threads\n",
    "t1 = threading.Thread(target=producer)\n",
    "t2 = threading.Thread(target=consumer)\n",
    "\n",
    "# Start threads\n",
    "t1.start()\n",
    "t2.start()\n",
    "\n",
    "# Wait for all produced items to be processed\n",
    "q.join()\n",
    "\n",
    "print(\"All tasks completed.\")\n"
   ]
  },
  {
   "cell_type": "markdown",
   "id": "20ae58aa-1f37-4b3d-acd2-89fc5ec98279",
   "metadata": {},
   "source": []
  },
  {
   "cell_type": "code",
   "execution_count": null,
   "id": "b11cd24b-5d6f-46e1-a6dc-55e849f10989",
   "metadata": {},
   "outputs": [],
   "source": []
  }
 ],
 "metadata": {
  "kernelspec": {
   "display_name": "Python 3 (ipykernel)",
   "language": "python",
   "name": "python3"
  },
  "language_info": {
   "codemirror_mode": {
    "name": "ipython",
    "version": 3
   },
   "file_extension": ".py",
   "mimetype": "text/x-python",
   "name": "python",
   "nbconvert_exporter": "python",
   "pygments_lexer": "ipython3",
   "version": "3.12.2"
  }
 },
 "nbformat": 4,
 "nbformat_minor": 5
}
