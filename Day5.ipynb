{
 "cells": [
  {
   "cell_type": "markdown",
   "id": "f209a251-d955-42ef-a0bb-9178007db27d",
   "metadata": {},
   "source": [
    "#### Packaging and Distribution\n",
    "##### setuptools: It is a package development process library that is designed to make packaging python projects. (set.py)\n",
    "##### wheel: pre-built binary package  format (with .whl extension) designed to replace the older “Egg” format. It's the modern standard for packaging Python projects because it's faster to install and doesn't require code execution during installation. \n",
    "##### twine :A secure command-line utility for uploading Python package distributions (source archives and wheels) to PyPI. The twine library is created to simplify uploading packages in pypi."
   ]
  },
  {
   "cell_type": "code",
   "execution_count": 78,
   "id": "d7bd95ba-45a3-4032-9f4b-dda18ef380a4",
   "metadata": {},
   "outputs": [
    {
     "name": "stdout",
     "output_type": "stream",
     "text": [
      "9.0.1\n"
     ]
    }
   ],
   "source": [
    "import IPython\n",
    "print(IPython.__version__)"
   ]
  },
  {
   "cell_type": "code",
   "execution_count": 79,
   "id": "7f330d2b-ad26-4866-85ea-7a747cea16c6",
   "metadata": {},
   "outputs": [
    {
     "data": {
      "application/json": {
       "cell": {
        "!": "OSMagics",
        "HTML": "Other",
        "SVG": "Other",
        "bash": "Other",
        "capture": "ExecutionMagics",
        "cmd": "Other",
        "code_wrap": "ExecutionMagics",
        "debug": "ExecutionMagics",
        "file": "Other",
        "html": "DisplayMagics",
        "javascript": "DisplayMagics",
        "js": "DisplayMagics",
        "latex": "DisplayMagics",
        "markdown": "DisplayMagics",
        "perl": "Other",
        "prun": "ExecutionMagics",
        "pypy": "Other",
        "python": "Other",
        "python2": "Other",
        "python3": "Other",
        "ruby": "Other",
        "script": "ScriptMagics",
        "sh": "Other",
        "svg": "DisplayMagics",
        "sx": "OSMagics",
        "system": "OSMagics",
        "time": "ExecutionMagics",
        "timeit": "ExecutionMagics",
        "writefile": "OSMagics"
       },
       "line": {
        "alias": "OSMagics",
        "alias_magic": "BasicMagics",
        "autoawait": "AsyncMagics",
        "autocall": "AutoMagics",
        "automagic": "AutoMagics",
        "autosave": "KernelMagics",
        "bookmark": "OSMagics",
        "cd": "OSMagics",
        "clear": "KernelMagics",
        "cls": "KernelMagics",
        "code_wrap": "ExecutionMagics",
        "colors": "BasicMagics",
        "conda": "PackagingMagics",
        "config": "ConfigMagics",
        "connect_info": "KernelMagics",
        "copy": "Other",
        "ddir": "Other",
        "debug": "ExecutionMagics",
        "dhist": "OSMagics",
        "dirs": "OSMagics",
        "doctest_mode": "BasicMagics",
        "echo": "Other",
        "ed": "Other",
        "edit": "KernelMagics",
        "env": "OSMagics",
        "gui": "BasicMagics",
        "hist": "Other",
        "history": "HistoryMagics",
        "killbgscripts": "ScriptMagics",
        "ldir": "Other",
        "less": "KernelMagics",
        "load": "CodeMagics",
        "load_ext": "ExtensionMagics",
        "loadpy": "CodeMagics",
        "logoff": "LoggingMagics",
        "logon": "LoggingMagics",
        "logstart": "LoggingMagics",
        "logstate": "LoggingMagics",
        "logstop": "LoggingMagics",
        "ls": "Other",
        "lsmagic": "BasicMagics",
        "macro": "ExecutionMagics",
        "magic": "BasicMagics",
        "mamba": "PackagingMagics",
        "matplotlib": "PylabMagics",
        "micromamba": "PackagingMagics",
        "mkdir": "Other",
        "more": "KernelMagics",
        "notebook": "BasicMagics",
        "page": "BasicMagics",
        "pastebin": "CodeMagics",
        "pdb": "ExecutionMagics",
        "pdef": "NamespaceMagics",
        "pdoc": "NamespaceMagics",
        "pfile": "NamespaceMagics",
        "pinfo": "NamespaceMagics",
        "pinfo2": "NamespaceMagics",
        "pip": "PackagingMagics",
        "popd": "OSMagics",
        "pprint": "BasicMagics",
        "precision": "BasicMagics",
        "prun": "ExecutionMagics",
        "psearch": "NamespaceMagics",
        "psource": "NamespaceMagics",
        "pushd": "OSMagics",
        "pwd": "OSMagics",
        "pycat": "OSMagics",
        "pylab": "PylabMagics",
        "qtconsole": "KernelMagics",
        "quickref": "BasicMagics",
        "recall": "HistoryMagics",
        "rehashx": "OSMagics",
        "reload_ext": "ExtensionMagics",
        "ren": "Other",
        "rep": "Other",
        "rerun": "HistoryMagics",
        "reset": "NamespaceMagics",
        "reset_selective": "NamespaceMagics",
        "rmdir": "Other",
        "run": "ExecutionMagics",
        "save": "CodeMagics",
        "sc": "OSMagics",
        "set_env": "OSMagics",
        "store": "StoreMagics",
        "sx": "OSMagics",
        "system": "OSMagics",
        "tb": "ExecutionMagics",
        "time": "ExecutionMagics",
        "timeit": "ExecutionMagics",
        "unalias": "OSMagics",
        "unload_ext": "ExtensionMagics",
        "uv": "PackagingMagics",
        "who": "NamespaceMagics",
        "who_ls": "NamespaceMagics",
        "whos": "NamespaceMagics",
        "xdel": "NamespaceMagics",
        "xmode": "BasicMagics"
       }
      },
      "text/plain": [
       "Available line magics:\n",
       "%alias  %alias_magic  %autoawait  %autocall  %automagic  %autosave  %bookmark  %cd  %clear  %cls  %code_wrap  %colors  %conda  %config  %connect_info  %copy  %ddir  %debug  %dhist  %dirs  %doctest_mode  %echo  %ed  %edit  %env  %gui  %hist  %history  %killbgscripts  %ldir  %less  %load  %load_ext  %loadpy  %logoff  %logon  %logstart  %logstate  %logstop  %ls  %lsmagic  %macro  %magic  %mamba  %matplotlib  %micromamba  %mkdir  %more  %notebook  %page  %pastebin  %pdb  %pdef  %pdoc  %pfile  %pinfo  %pinfo2  %pip  %popd  %pprint  %precision  %prun  %psearch  %psource  %pushd  %pwd  %pycat  %pylab  %qtconsole  %quickref  %recall  %rehashx  %reload_ext  %ren  %rep  %rerun  %reset  %reset_selective  %rmdir  %run  %save  %sc  %set_env  %store  %sx  %system  %tb  %time  %timeit  %unalias  %unload_ext  %uv  %who  %who_ls  %whos  %xdel  %xmode\n",
       "\n",
       "Available cell magics:\n",
       "%%!  %%HTML  %%SVG  %%bash  %%capture  %%cmd  %%code_wrap  %%debug  %%file  %%html  %%javascript  %%js  %%latex  %%markdown  %%perl  %%prun  %%pypy  %%python  %%python2  %%python3  %%ruby  %%script  %%sh  %%svg  %%sx  %%system  %%time  %%timeit  %%writefile\n",
       "\n",
       "Automagic is ON, % prefix IS NOT needed for line magics."
      ]
     },
     "execution_count": 79,
     "metadata": {},
     "output_type": "execute_result"
    }
   ],
   "source": [
    "%lsmagic"
   ]
  },
  {
   "cell_type": "code",
   "execution_count": 80,
   "id": "9a775689-22ce-4d04-b6e8-2c0ad1565a6b",
   "metadata": {},
   "outputs": [
    {
     "name": "stdout",
     "output_type": "stream",
     "text": [
      "Python 3.12.2\n",
      "pip 25.2 from C:\\Users\\ASUS1\\AppData\\Local\\Programs\\Python\\Python312\\Lib\\site-packages\\pip (python 3.12)\n",
      "\n",
      "Requirement already satisfied: setuptools in c:\\users\\asus1\\appdata\\local\\programs\\python\\python312\\lib\\site-packages (75.8.2)\n",
      "Requirement already satisfied: build in c:\\users\\asus1\\appdata\\local\\programs\\python\\python312\\lib\\site-packages (1.3.0)\n",
      "Requirement already satisfied: packaging>=19.1 in c:\\users\\asus1\\appdata\\local\\programs\\python\\python312\\lib\\site-packages (from build) (24.2)\n",
      "Requirement already satisfied: pyproject_hooks in c:\\users\\asus1\\appdata\\local\\programs\\python\\python312\\lib\\site-packages (from build) (1.2.0)\n",
      "Requirement already satisfied: colorama in c:\\users\\asus1\\appdata\\local\\programs\\python\\python312\\lib\\site-packages (from build) (0.4.6)\n"
     ]
    }
   ],
   "source": [
    "# Using pip to install setuptools\n",
    "!python --version\n",
    "!pip --version\n",
    "!pip install setuptools\n",
    "!pip install build\n"
   ]
  },
  {
   "cell_type": "code",
   "execution_count": 81,
   "id": "bc1ef7c2-9a09-45cf-bb5b-b80d10078302",
   "metadata": {},
   "outputs": [
    {
     "name": "stdout",
     "output_type": "stream",
     "text": [
      "Requirement already satisfied: pip in c:\\users\\asus1\\appdata\\local\\programs\\python\\python312\\lib\\site-packages (25.2)\n"
     ]
    }
   ],
   "source": [
    "!pip install --upgrade pip"
   ]
  },
  {
   "cell_type": "code",
   "execution_count": 82,
   "id": "f6554990-170d-43ba-8f77-85de4753f3fd",
   "metadata": {},
   "outputs": [],
   "source": [
    "## Creating setup.py file\n",
    "code = '''\n",
    "from setuptools import setup, find_packages\n",
    "\n",
    "setup(\n",
    "    name=\"my_package\",\n",
    "    version=\"0.1.0\",\n",
    "    packages=find_packages(),\n",
    "    python_requires='>=3.6',\n",
    ")\n",
    "'''\n",
    "\n",
    "with open(\"setup.py\", \"w\") as f:\n",
    "    f.write(code)\n"
   ]
  },
  {
   "cell_type": "code",
   "execution_count": 83,
   "id": "bbf9be7c-1ffb-47c8-a20e-1b29b8127ce1",
   "metadata": {},
   "outputs": [
    {
     "name": "stdout",
     "output_type": "stream",
     "text": [
      "Requirement already satisfied: wheel in c:\\users\\asus1\\appdata\\local\\programs\\python\\python312\\lib\\site-packages (0.45.1)\n"
     ]
    }
   ],
   "source": [
    "!pip install wheel"
   ]
  },
  {
   "cell_type": "code",
   "execution_count": 84,
   "id": "fc1a9ba8-8cc2-4c3e-b902-bb6f23c66865",
   "metadata": {},
   "outputs": [
    {
     "name": "stdout",
     "output_type": "stream",
     "text": [
      "* Creating isolated environment: venv+pip...\n",
      "* Installing packages in isolated environment:\n",
      "  - setuptools>=61.0\n",
      "  - wheel\n",
      "* Getting build dependencies for sdist...\n",
      "running egg_info\n",
      "writing my_package.egg-info\\PKG-INFO\n",
      "writing dependency_links to my_package.egg-info\\dependency_links.txt\n",
      "writing top-level names to my_package.egg-info\\top_level.txt\n",
      "reading manifest file 'my_package.egg-info\\SOURCES.txt'\n",
      "writing manifest file 'my_package.egg-info\\SOURCES.txt'\n",
      "* Building sdist...\n",
      "running sdist\n",
      "running egg_info\n",
      "writing my_package.egg-info\\PKG-INFO\n",
      "writing dependency_links to my_package.egg-info\\dependency_links.txt\n",
      "writing top-level names to my_package.egg-info\\top_level.txt\n",
      "reading manifest file 'my_package.egg-info\\SOURCES.txt'\n",
      "writing manifest file 'my_package.egg-info\\SOURCES.txt'\n",
      "running check\n",
      "creating my_package-0.1.0\n",
      "creating my_package-0.1.0\\my_package.egg-info\n",
      "copying files to my_package-0.1.0...\n",
      "copying README.md -> my_package-0.1.0\n",
      "copying pyproject.toml -> my_package-0.1.0\n",
      "copying setup.py -> my_package-0.1.0\n",
      "copying my_package.egg-info\\PKG-INFO -> my_package-0.1.0\\my_package.egg-info\n",
      "copying my_package.egg-info\\SOURCES.txt -> my_package-0.1.0\\my_package.egg-info\n",
      "copying my_package.egg-info\\dependency_links.txt -> my_package-0.1.0\\my_package.egg-info\n",
      "copying my_package.egg-info\\top_level.txt -> my_package-0.1.0\\my_package.egg-info\n",
      "copying my_package.egg-info\\SOURCES.txt -> my_package-0.1.0\\my_package.egg-info\n",
      "Writing my_package-0.1.0\\setup.cfg\n",
      "Creating tar archive\n",
      "removing 'my_package-0.1.0' (and everything under it)\n",
      "* Building wheel from sdist\n",
      "* Creating isolated environment: venv+pip...\n",
      "* Installing packages in isolated environment:\n",
      "  - setuptools>=61.0\n",
      "  - wheel\n",
      "* Getting build dependencies for wheel...\n",
      "running egg_info\n",
      "writing my_package.egg-info\\PKG-INFO\n",
      "writing dependency_links to my_package.egg-info\\dependency_links.txt\n",
      "writing top-level names to my_package.egg-info\\top_level.txt\n",
      "reading manifest file 'my_package.egg-info\\SOURCES.txt'\n",
      "writing manifest file 'my_package.egg-info\\SOURCES.txt'\n",
      "* Building wheel...\n",
      "running bdist_wheel\n",
      "running build\n",
      "installing to build\\bdist.win-amd64\\wheel\n",
      "running install\n",
      "running install_egg_info\n",
      "running egg_info\n",
      "writing my_package.egg-info\\PKG-INFO\n",
      "writing dependency_links to my_package.egg-info\\dependency_links.txt\n",
      "writing top-level names to my_package.egg-info\\top_level.txt\n",
      "reading manifest file 'my_package.egg-info\\SOURCES.txt'\n",
      "writing manifest file 'my_package.egg-info\\SOURCES.txt'\n",
      "Copying my_package.egg-info to build\\bdist.win-amd64\\wheel\\.\\my_package-0.1.0-py3.12.egg-info\n",
      "running install_scripts\n",
      "creating build\\bdist.win-amd64\\wheel\\my_package-0.1.0.dist-info\\WHEEL\n",
      "creating 'C:\\Users\\ASUS1\\Desktop\\Shrig_Intern\\dist\\.tmp-74ulct8v\\my_package-0.1.0-py3-none-any.whl' and adding 'build\\bdist.win-amd64\\wheel' to it\n",
      "adding 'my_package-0.1.0.dist-info/METADATA'\n",
      "adding 'my_package-0.1.0.dist-info/WHEEL'\n",
      "adding 'my_package-0.1.0.dist-info/top_level.txt'\n",
      "adding 'my_package-0.1.0.dist-info/RECORD'\n",
      "removing build\\bdist.win-amd64\\wheel\n",
      "Successfully built my_package-0.1.0.tar.gz and my_package-0.1.0-py3-none-any.whl\n"
     ]
    },
    {
     "name": "stderr",
     "output_type": "stream",
     "text": [
      "C:\\Users\\ASUS1\\AppData\\Local\\Temp\\build-env-joqzcz1p\\Lib\\site-packages\\setuptools\\config\\_apply_pyprojecttoml.py:82: SetuptoolsDeprecationWarning: `project.license` as a TOML table is deprecated\n",
      "!!\n",
      "\n",
      "        ********************************************************************************\n",
      "        Please use a simple string containing a SPDX expression for `project.license`. You can also use `project.license-files`. (Both options available on setuptools>=77.0.0).\n",
      "\n",
      "        By 2026-Feb-18, you need to update your project and remove deprecated calls\n",
      "        or your builds will no longer be supported.\n",
      "\n",
      "        See https://packaging.python.org/en/latest/guides/writing-pyproject-toml/#license for details.\n",
      "        ********************************************************************************\n",
      "\n",
      "!!\n",
      "  corresp(dist, value, root_dir)\n",
      "C:\\Users\\ASUS1\\AppData\\Local\\Temp\\build-env-joqzcz1p\\Lib\\site-packages\\setuptools\\config\\_apply_pyprojecttoml.py:61: SetuptoolsDeprecationWarning: License classifiers are deprecated.\n",
      "!!\n",
      "\n",
      "        ********************************************************************************\n",
      "        Please consider removing the following classifiers in favor of a SPDX license expression:\n",
      "\n",
      "        License :: OSI Approved :: MIT License\n",
      "\n",
      "        See https://packaging.python.org/en/latest/guides/writing-pyproject-toml/#license for details.\n",
      "        ********************************************************************************\n",
      "\n",
      "!!\n",
      "  dist._finalize_license_expression()\n",
      "C:\\Users\\ASUS1\\AppData\\Local\\Temp\\build-env-joqzcz1p\\Lib\\site-packages\\setuptools\\dist.py:759: SetuptoolsDeprecationWarning: License classifiers are deprecated.\n",
      "!!\n",
      "\n",
      "        ********************************************************************************\n",
      "        Please consider removing the following classifiers in favor of a SPDX license expression:\n",
      "\n",
      "        License :: OSI Approved :: MIT License\n",
      "\n",
      "        See https://packaging.python.org/en/latest/guides/writing-pyproject-toml/#license for details.\n",
      "        ********************************************************************************\n",
      "\n",
      "!!\n",
      "  self._finalize_license_expression()\n",
      "C:\\Users\\ASUS1\\AppData\\Local\\Temp\\build-env-joqzcz1p\\Lib\\site-packages\\setuptools\\config\\_apply_pyprojecttoml.py:82: SetuptoolsDeprecationWarning: `project.license` as a TOML table is deprecated\n",
      "!!\n",
      "\n",
      "        ********************************************************************************\n",
      "        Please use a simple string containing a SPDX expression for `project.license`. You can also use `project.license-files`. (Both options available on setuptools>=77.0.0).\n",
      "\n",
      "        By 2026-Feb-18, you need to update your project and remove deprecated calls\n",
      "        or your builds will no longer be supported.\n",
      "\n",
      "        See https://packaging.python.org/en/latest/guides/writing-pyproject-toml/#license for details.\n",
      "        ********************************************************************************\n",
      "\n",
      "!!\n",
      "  corresp(dist, value, root_dir)\n",
      "C:\\Users\\ASUS1\\AppData\\Local\\Temp\\build-env-joqzcz1p\\Lib\\site-packages\\setuptools\\config\\_apply_pyprojecttoml.py:61: SetuptoolsDeprecationWarning: License classifiers are deprecated.\n",
      "!!\n",
      "\n",
      "        ********************************************************************************\n",
      "        Please consider removing the following classifiers in favor of a SPDX license expression:\n",
      "\n",
      "        License :: OSI Approved :: MIT License\n",
      "\n",
      "        See https://packaging.python.org/en/latest/guides/writing-pyproject-toml/#license for details.\n",
      "        ********************************************************************************\n",
      "\n",
      "!!\n",
      "  dist._finalize_license_expression()\n",
      "C:\\Users\\ASUS1\\AppData\\Local\\Temp\\build-env-joqzcz1p\\Lib\\site-packages\\setuptools\\dist.py:759: SetuptoolsDeprecationWarning: License classifiers are deprecated.\n",
      "!!\n",
      "\n",
      "        ********************************************************************************\n",
      "        Please consider removing the following classifiers in favor of a SPDX license expression:\n",
      "\n",
      "        License :: OSI Approved :: MIT License\n",
      "\n",
      "        See https://packaging.python.org/en/latest/guides/writing-pyproject-toml/#license for details.\n",
      "        ********************************************************************************\n",
      "\n",
      "!!\n",
      "  self._finalize_license_expression()\n",
      "C:\\Users\\ASUS1\\AppData\\Local\\Temp\\build-env-zzn0mufu\\Lib\\site-packages\\setuptools\\config\\_apply_pyprojecttoml.py:82: SetuptoolsDeprecationWarning: `project.license` as a TOML table is deprecated\n",
      "!!\n",
      "\n",
      "        ********************************************************************************\n",
      "        Please use a simple string containing a SPDX expression for `project.license`. You can also use `project.license-files`. (Both options available on setuptools>=77.0.0).\n",
      "\n",
      "        By 2026-Feb-18, you need to update your project and remove deprecated calls\n",
      "        or your builds will no longer be supported.\n",
      "\n",
      "        See https://packaging.python.org/en/latest/guides/writing-pyproject-toml/#license for details.\n",
      "        ********************************************************************************\n",
      "\n",
      "!!\n",
      "  corresp(dist, value, root_dir)\n",
      "C:\\Users\\ASUS1\\AppData\\Local\\Temp\\build-env-zzn0mufu\\Lib\\site-packages\\setuptools\\config\\_apply_pyprojecttoml.py:61: SetuptoolsDeprecationWarning: License classifiers are deprecated.\n",
      "!!\n",
      "\n",
      "        ********************************************************************************\n",
      "        Please consider removing the following classifiers in favor of a SPDX license expression:\n",
      "\n",
      "        License :: OSI Approved :: MIT License\n",
      "\n",
      "        See https://packaging.python.org/en/latest/guides/writing-pyproject-toml/#license for details.\n",
      "        ********************************************************************************\n",
      "\n",
      "!!\n",
      "  dist._finalize_license_expression()\n",
      "C:\\Users\\ASUS1\\AppData\\Local\\Temp\\build-env-zzn0mufu\\Lib\\site-packages\\setuptools\\dist.py:759: SetuptoolsDeprecationWarning: License classifiers are deprecated.\n",
      "!!\n",
      "\n",
      "        ********************************************************************************\n",
      "        Please consider removing the following classifiers in favor of a SPDX license expression:\n",
      "\n",
      "        License :: OSI Approved :: MIT License\n",
      "\n",
      "        See https://packaging.python.org/en/latest/guides/writing-pyproject-toml/#license for details.\n",
      "        ********************************************************************************\n",
      "\n",
      "!!\n",
      "  self._finalize_license_expression()\n",
      "C:\\Users\\ASUS1\\AppData\\Local\\Temp\\build-env-zzn0mufu\\Lib\\site-packages\\setuptools\\config\\_apply_pyprojecttoml.py:82: SetuptoolsDeprecationWarning: `project.license` as a TOML table is deprecated\n",
      "!!\n",
      "\n",
      "        ********************************************************************************\n",
      "        Please use a simple string containing a SPDX expression for `project.license`. You can also use `project.license-files`. (Both options available on setuptools>=77.0.0).\n",
      "\n",
      "        By 2026-Feb-18, you need to update your project and remove deprecated calls\n",
      "        or your builds will no longer be supported.\n",
      "\n",
      "        See https://packaging.python.org/en/latest/guides/writing-pyproject-toml/#license for details.\n",
      "        ********************************************************************************\n",
      "\n",
      "!!\n",
      "  corresp(dist, value, root_dir)\n",
      "C:\\Users\\ASUS1\\AppData\\Local\\Temp\\build-env-zzn0mufu\\Lib\\site-packages\\setuptools\\config\\_apply_pyprojecttoml.py:61: SetuptoolsDeprecationWarning: License classifiers are deprecated.\n",
      "!!\n",
      "\n",
      "        ********************************************************************************\n",
      "        Please consider removing the following classifiers in favor of a SPDX license expression:\n",
      "\n",
      "        License :: OSI Approved :: MIT License\n",
      "\n",
      "        See https://packaging.python.org/en/latest/guides/writing-pyproject-toml/#license for details.\n",
      "        ********************************************************************************\n",
      "\n",
      "!!\n",
      "  dist._finalize_license_expression()\n",
      "C:\\Users\\ASUS1\\AppData\\Local\\Temp\\build-env-zzn0mufu\\Lib\\site-packages\\setuptools\\dist.py:759: SetuptoolsDeprecationWarning: License classifiers are deprecated.\n",
      "!!\n",
      "\n",
      "        ********************************************************************************\n",
      "        Please consider removing the following classifiers in favor of a SPDX license expression:\n",
      "\n",
      "        License :: OSI Approved :: MIT License\n",
      "\n",
      "        See https://packaging.python.org/en/latest/guides/writing-pyproject-toml/#license for details.\n",
      "        ********************************************************************************\n",
      "\n",
      "!!\n",
      "  self._finalize_license_expression()\n"
     ]
    }
   ],
   "source": [
    "## creating package wheel using build\n",
    "!python -m build"
   ]
  },
  {
   "cell_type": "code",
   "execution_count": 85,
   "id": "1ac8cade-5ad3-4554-86ad-44b352453d78",
   "metadata": {},
   "outputs": [
    {
     "name": "stdout",
     "output_type": "stream",
     "text": [
      "Processing c:\\users\\asus1\\desktop\\shrig_intern\\dist\\my_package-0.1.0-py3-none-any.whl\n",
      "my-package is already installed with the same version as the provided wheel. Use --force-reinstall to force an installation of the wheel.\n"
     ]
    }
   ],
   "source": [
    "## Installing built wheel file using pip\n",
    "!pip install dist/my_package-0.1.0-py3-none-any.whl"
   ]
  },
  {
   "cell_type": "code",
   "execution_count": 86,
   "id": "e325d0f9-90ee-448e-b822-215ada703b99",
   "metadata": {},
   "outputs": [
    {
     "name": "stdout",
     "output_type": "stream",
     "text": [
      "Requirement already satisfied: twine in c:\\users\\asus1\\appdata\\local\\programs\\python\\python312\\lib\\site-packages (6.1.0)\n",
      "Requirement already satisfied: readme-renderer>=35.0 in c:\\users\\asus1\\appdata\\local\\programs\\python\\python312\\lib\\site-packages (from twine) (44.0)\n",
      "Requirement already satisfied: requests>=2.20 in c:\\users\\asus1\\appdata\\local\\programs\\python\\python312\\lib\\site-packages (from twine) (2.32.3)\n",
      "Requirement already satisfied: requests-toolbelt!=0.9.0,>=0.8.0 in c:\\users\\asus1\\appdata\\local\\programs\\python\\python312\\lib\\site-packages (from twine) (1.0.0)\n",
      "Requirement already satisfied: urllib3>=1.26.0 in c:\\users\\asus1\\appdata\\local\\programs\\python\\python312\\lib\\site-packages (from twine) (2.5.0)\n",
      "Requirement already satisfied: keyring>=15.1 in c:\\users\\asus1\\appdata\\local\\programs\\python\\python312\\lib\\site-packages (from twine) (25.6.0)\n",
      "Requirement already satisfied: rfc3986>=1.4.0 in c:\\users\\asus1\\appdata\\local\\programs\\python\\python312\\lib\\site-packages (from twine) (2.0.0)\n",
      "Requirement already satisfied: rich>=12.0.0 in c:\\users\\asus1\\appdata\\local\\programs\\python\\python312\\lib\\site-packages (from twine) (14.1.0)\n",
      "Requirement already satisfied: packaging>=24.0 in c:\\users\\asus1\\appdata\\local\\programs\\python\\python312\\lib\\site-packages (from twine) (24.2)\n",
      "Requirement already satisfied: id in c:\\users\\asus1\\appdata\\local\\programs\\python\\python312\\lib\\site-packages (from twine) (1.5.0)\n",
      "Requirement already satisfied: pywin32-ctypes>=0.2.0 in c:\\users\\asus1\\appdata\\local\\programs\\python\\python312\\lib\\site-packages (from keyring>=15.1->twine) (0.2.3)\n",
      "Requirement already satisfied: jaraco.classes in c:\\users\\asus1\\appdata\\local\\programs\\python\\python312\\lib\\site-packages (from keyring>=15.1->twine) (3.4.0)\n",
      "Requirement already satisfied: jaraco.functools in c:\\users\\asus1\\appdata\\local\\programs\\python\\python312\\lib\\site-packages (from keyring>=15.1->twine) (4.2.1)\n",
      "Requirement already satisfied: jaraco.context in c:\\users\\asus1\\appdata\\local\\programs\\python\\python312\\lib\\site-packages (from keyring>=15.1->twine) (6.0.1)\n",
      "Requirement already satisfied: nh3>=0.2.14 in c:\\users\\asus1\\appdata\\local\\programs\\python\\python312\\lib\\site-packages (from readme-renderer>=35.0->twine) (0.3.0)\n",
      "Requirement already satisfied: docutils>=0.21.2 in c:\\users\\asus1\\appdata\\local\\programs\\python\\python312\\lib\\site-packages (from readme-renderer>=35.0->twine) (0.22)\n",
      "Requirement already satisfied: Pygments>=2.5.1 in c:\\users\\asus1\\appdata\\local\\programs\\python\\python312\\lib\\site-packages (from readme-renderer>=35.0->twine) (2.19.1)\n",
      "Requirement already satisfied: charset-normalizer<4,>=2 in c:\\users\\asus1\\appdata\\local\\programs\\python\\python312\\lib\\site-packages (from requests>=2.20->twine) (3.4.1)\n",
      "Requirement already satisfied: idna<4,>=2.5 in c:\\users\\asus1\\appdata\\local\\programs\\python\\python312\\lib\\site-packages (from requests>=2.20->twine) (3.10)\n",
      "Requirement already satisfied: certifi>=2017.4.17 in c:\\users\\asus1\\appdata\\local\\programs\\python\\python312\\lib\\site-packages (from requests>=2.20->twine) (2025.7.14)\n",
      "Requirement already satisfied: markdown-it-py>=2.2.0 in c:\\users\\asus1\\appdata\\local\\programs\\python\\python312\\lib\\site-packages (from rich>=12.0.0->twine) (3.0.0)\n",
      "Requirement already satisfied: mdurl~=0.1 in c:\\users\\asus1\\appdata\\local\\programs\\python\\python312\\lib\\site-packages (from markdown-it-py>=2.2.0->rich>=12.0.0->twine) (0.1.2)\n",
      "Requirement already satisfied: more-itertools in c:\\users\\asus1\\appdata\\local\\programs\\python\\python312\\lib\\site-packages (from jaraco.classes->keyring>=15.1->twine) (10.7.0)\n"
     ]
    }
   ],
   "source": [
    "## Installing twine\n",
    "!pip install twine\n"
   ]
  },
  {
   "cell_type": "code",
   "execution_count": 87,
   "id": "08e1b42d-0a74-42b6-ad84-a8a684112938",
   "metadata": {},
   "outputs": [],
   "source": [
    "## Uploading built packages(python -m build)\n",
    "## !twine upload dist/* (uploads the built files like whl and tar.gz online which can be installed by others)"
   ]
  },
  {
   "cell_type": "code",
   "execution_count": 88,
   "id": "7eab5dc3-e038-42b4-933c-4624557c7b07",
   "metadata": {},
   "outputs": [
    {
     "name": "stdout",
     "output_type": "stream",
     "text": [
      "pyproject.toml created!\n"
     ]
    }
   ],
   "source": [
    "# pyproject.html\n",
    "pyproject_content = \"\"\"\\\n",
    "[build-system]\n",
    "requires = [\"setuptools>=61.0\", \"wheel\"]\n",
    "build-backend = \"setuptools.build_meta\"\n",
    "\n",
    "[project]\n",
    "name = \"my_package\"\n",
    "version = \"0.1.0\"\n",
    "description = \"My example package built with pyproject.toml\"\n",
    "authors = [\n",
    "    { name = \"Your Name\", email = \"your@email.com\" }\n",
    "]\n",
    "readme = \"README.md\"\n",
    "requires-python = \">=3.6\"\n",
    "license = { text = \"MIT\" }\n",
    "classifiers = [\n",
    "    \"Programming Language :: Python :: 3\",\n",
    "    \"License :: OSI Approved :: MIT License\",\n",
    "    \"Operating System :: OS Independent\"\n",
    "]\n",
    "dependencies = [\n",
    "    # Example dependency\n",
    "    # \"requests>=2.25.1\",\n",
    "]\n",
    "\n",
    "[project.urls]\n",
    "Homepage = \"https://your-homepage.example.com\"\n",
    "\"\"\"\n",
    "\n",
    "with open(\"pyproject.toml\", \"w\") as f:\n",
    "    f.write(pyproject_content)\n",
    "\n",
    "print(\"pyproject.toml created!\")\n",
    "\n"
   ]
  },
  {
   "cell_type": "markdown",
   "id": "71bb7bf6-ba08-477e-93e1-3dd87039a41c",
   "metadata": {},
   "source": [
    "## Flake8:\n",
    "### It is the wrapper which verifies pep8, pyflakes, and circular complexity and  has a low rate of false positives. \n",
    "### python -m pip install flake8"
   ]
  },
  {
   "cell_type": "code",
   "execution_count": 89,
   "id": "f7c5bd90-2436-4143-b6b5-3f8df18b98e6",
   "metadata": {},
   "outputs": [],
   "source": [
    "!flake8 test.py"
   ]
  },
  {
   "cell_type": "markdown",
   "id": "495bbed7-afe0-4101-9e3d-4a1db3a1ec11",
   "metadata": {},
   "source": [
    "## Pylint :\n",
    "### Pylint is a static analysis tool for Python that detects errors, enforces coding standards, suggests improvements, and eports on code complexity to help write cleaner and more maintainable code."
   ]
  },
  {
   "cell_type": "code",
   "execution_count": 90,
   "id": "b7b3d9c5-57a4-4a65-8c24-bcf5308e5309",
   "metadata": {},
   "outputs": [],
   "source": [
    "# Pylint \n",
    "code = \"\"\"a = 1\n",
    "b = 2\n",
    "print(a + b)\n",
    "\"\"\"\n",
    "\n",
    "with open(\"lint.py\", \"w\") as f:\n",
    "    f.write(code)\n"
   ]
  },
  {
   "cell_type": "code",
   "execution_count": 91,
   "id": "164a4292-68c3-4199-9e4a-d4b90946f91a",
   "metadata": {},
   "outputs": [
    {
     "name": "stdout",
     "output_type": "stream",
     "text": [
      "************* Module lint\n",
      "lint.py:1:0: C0114: Missing module docstring (missing-module-docstring)\n",
      "lint.py:1:0: C0103: Constant name \"a\" doesn't conform to UPPER_CASE naming style (invalid-name)\n",
      "lint.py:2:0: C0103: Constant name \"b\" doesn't conform to UPPER_CASE naming style (invalid-name)\n",
      "\n",
      "------------------------------------------------------------------\n",
      "Your code has been rated at 0.00/10 (previous run: 0.00/10, +0.00)\n",
      "\n"
     ]
    }
   ],
   "source": [
    "!pylint lint.py"
   ]
  },
  {
   "cell_type": "markdown",
   "id": "4e186f96-8532-4219-bf21-3c7e5d94badc",
   "metadata": {},
   "source": [
    "## Black:\n",
    "### Black is a Python code formatter that automatically fixes style issues to comply with PEP 8, saving developers time by enforcing consistent, readable code without manual fixes."
   ]
  },
  {
   "cell_type": "code",
   "execution_count": 92,
   "id": "2eee22a6-dce3-4b80-9cfb-4d67af9bd484",
   "metadata": {},
   "outputs": [
    {
     "name": "stdout",
     "output_type": "stream",
     "text": [
      "Requirement already satisfied: black in c:\\users\\asus1\\appdata\\local\\programs\\python\\python312\\lib\\site-packages (25.1.0)\n",
      "Requirement already satisfied: click>=8.0.0 in c:\\users\\asus1\\appdata\\local\\programs\\python\\python312\\lib\\site-packages (from black) (8.2.1)\n",
      "Requirement already satisfied: mypy-extensions>=0.4.3 in c:\\users\\asus1\\appdata\\local\\programs\\python\\python312\\lib\\site-packages (from black) (1.1.0)\n",
      "Requirement already satisfied: packaging>=22.0 in c:\\users\\asus1\\appdata\\local\\programs\\python\\python312\\lib\\site-packages (from black) (24.2)\n",
      "Requirement already satisfied: pathspec>=0.9.0 in c:\\users\\asus1\\appdata\\local\\programs\\python\\python312\\lib\\site-packages (from black) (0.12.1)\n",
      "Requirement already satisfied: platformdirs>=2 in c:\\users\\asus1\\appdata\\local\\programs\\python\\python312\\lib\\site-packages (from black) (4.3.6)\n",
      "Requirement already satisfied: colorama in c:\\users\\asus1\\appdata\\local\\programs\\python\\python312\\lib\\site-packages (from click>=8.0.0->black) (0.4.6)\n"
     ]
    }
   ],
   "source": [
    "# Example:\n",
    "!pip install black\n"
   ]
  },
  {
   "cell_type": "code",
   "execution_count": 93,
   "id": "393c4b60-d7c4-47e7-bc8a-765b00e77ef2",
   "metadata": {},
   "outputs": [],
   "source": [
    "# code with style issue \n",
    "code = '''\n",
    "def is_unique(\n",
    "               s\n",
    "               ):\n",
    "    s = list(s\n",
    "                )\n",
    "    s.sort()\n",
    "\n",
    "\n",
    "    for i in range(len(s) - 1):\n",
    "        if s[i] == s[i + 1]:\n",
    "            return 0\n",
    "    else:\n",
    "        return 1\n",
    "\n",
    "\n",
    "if __name__ == \"__main__\":\n",
    "    print(\n",
    "          is_unique(input())\n",
    "         )\n",
    "'''\n",
    "\n",
    "with open(\"black.py\", \"w\") as f:\n",
    "    f.write(code)\n"
   ]
  },
  {
   "cell_type": "code",
   "execution_count": 94,
   "id": "7e1e3367-e3da-4e5b-8c26-da8ddd2fa28c",
   "metadata": {},
   "outputs": [
    {
     "name": "stderr",
     "output_type": "stream",
     "text": [
      "reformatted black.py\n",
      "\n",
      "All done! \\u2728 \\U0001f370 \\u2728\n",
      "1 file reformatted.\n"
     ]
    }
   ],
   "source": [
    "# formatting the code\n",
    "!black black.py"
   ]
  },
  {
   "cell_type": "code",
   "execution_count": 95,
   "id": "c6e18125-6abf-480a-83c1-815be46b5990",
   "metadata": {},
   "outputs": [
    {
     "name": "stdout",
     "output_type": "stream",
     "text": [
      "def is_unique(s):\n",
      "    s = list(s)\n",
      "    s.sort()\n",
      "\n",
      "    for i in range(len(s) - 1):\n",
      "        if s[i] == s[i + 1]:\n",
      "            return 0\n",
      "    else:\n",
      "        return 1\n",
      "\n",
      "\n",
      "if __name__ == \"__main__\":\n",
      "    print(is_unique(input()))\n",
      "\n"
     ]
    }
   ],
   "source": [
    "with open(\"black.py\") as f:\n",
    "    print(f.read())\n"
   ]
  },
  {
   "cell_type": "markdown",
   "id": "81fe6896-40a7-40a1-8f09-3ab34bbc1b26",
   "metadata": {},
   "source": [
    "## Isort:\n",
    "### It is a Python tool that automatically organizes and alphabetically sorts your import statements for cleaner, more readable code.\n"
   ]
  },
  {
   "cell_type": "code",
   "execution_count": 96,
   "id": "f2a6608d-3e1c-4b8a-ac7d-b0b038d2a87c",
   "metadata": {},
   "outputs": [
    {
     "name": "stdout",
     "output_type": "stream",
     "text": [
      "Requirement already satisfied: isort in c:\\users\\asus1\\appdata\\local\\programs\\python\\python312\\lib\\site-packages (6.0.1)\n"
     ]
    }
   ],
   "source": [
    "!pip install isort"
   ]
  },
  {
   "cell_type": "code",
   "execution_count": 97,
   "id": "44f125b7-cd86-46e5-a324-b8d75579ccf6",
   "metadata": {},
   "outputs": [
    {
     "name": "stdout",
     "output_type": "stream",
     "text": [
      "Before sorting:\n",
      "\n",
      "\n",
      "import sys\n",
      "import os\n",
      "import numpy as np\n",
      "import json\n",
      "import pandas as pd\n",
      "lint.py\n",
      "\n"
     ]
    }
   ],
   "source": [
    "# Create a Python file with messy imports\n",
    "code = \"\"\"\n",
    "import sys\n",
    "import os\n",
    "import numpy as np\n",
    "import json\n",
    "import pandas as pd\n",
    "lint.py\n",
    "\"\"\"\n",
    "with open(\"isort.py\", \"w\") as f:\n",
    "    f.write(code)\n",
    "\n",
    "print(\"Before sorting:\\n\")\n",
    "with open(\"isort.py\", \"r\") as f:\n",
    "    print(f.read())\n"
   ]
  },
  {
   "cell_type": "code",
   "execution_count": 98,
   "id": "1ccf016f-055d-4f1b-b227-424919f0dde0",
   "metadata": {},
   "outputs": [
    {
     "name": "stdout",
     "output_type": "stream",
     "text": [
      "Fixing C:\\Users\\ASUS1\\Desktop\\Shrig_Intern\\isort.py\n"
     ]
    }
   ],
   "source": [
    "# Run isort to sort imports\n",
    "!isort isort.py\n"
   ]
  },
  {
   "cell_type": "code",
   "execution_count": 99,
   "id": "ad7a680a-d292-467d-b18b-1b2842800113",
   "metadata": {},
   "outputs": [
    {
     "name": "stdout",
     "output_type": "stream",
     "text": [
      "After sorting:\n",
      "\n",
      "\n",
      "import json\n",
      "import os\n",
      "import sys\n",
      "\n",
      "import numpy as np\n",
      "import pandas as pd\n",
      "\n",
      "lint.py\n",
      "\n"
     ]
    }
   ],
   "source": [
    "# Show the sorted imports\n",
    "print(\"After sorting:\\n\")\n",
    "with open(\"isort.py\", \"r\") as f:\n",
    "    print(f.read())\n",
    "#standard library imports (json, os, sys) are grouped together and sorted alphabetically\n",
    "#Third-party libraries (numpy, pandas) come in their own group, also alphabetically."
   ]
  },
  {
   "cell_type": "markdown",
   "id": "4fddfceb-6de9-4454-9f46-f289e8865805",
   "metadata": {},
   "source": [
    "## Pre-commit:\n",
    "### Pre-commit hooks run before Git commits to check your code for errors or style issues and prevent bad commits. The pre-commit tool helps set up and manage these checks easily."
   ]
  },
  {
   "cell_type": "code",
   "execution_count": 100,
   "id": "e9baeffb-1d5d-4f42-8bfa-657b1adb7976",
   "metadata": {
    "scrolled": true
   },
   "outputs": [
    {
     "name": "stdout",
     "output_type": "stream",
     "text": [
      "Requirement already satisfied: pre-commit in c:\\users\\asus1\\appdata\\local\\programs\\python\\python312\\lib\\site-packages (4.2.0)\n",
      "Requirement already satisfied: cfgv>=2.0.0 in c:\\users\\asus1\\appdata\\local\\programs\\python\\python312\\lib\\site-packages (from pre-commit) (3.4.0)\n",
      "Requirement already satisfied: identify>=1.0.0 in c:\\users\\asus1\\appdata\\local\\programs\\python\\python312\\lib\\site-packages (from pre-commit) (2.6.12)\n",
      "Requirement already satisfied: nodeenv>=0.11.1 in c:\\users\\asus1\\appdata\\local\\programs\\python\\python312\\lib\\site-packages (from pre-commit) (1.9.1)\n",
      "Requirement already satisfied: pyyaml>=5.1 in c:\\users\\asus1\\appdata\\local\\programs\\python\\python312\\lib\\site-packages (from pre-commit) (6.0.2)\n",
      "Requirement already satisfied: virtualenv>=20.10.0 in c:\\users\\asus1\\appdata\\local\\programs\\python\\python312\\lib\\site-packages (from pre-commit) (20.33.1)\n",
      "Requirement already satisfied: distlib<1,>=0.3.7 in c:\\users\\asus1\\appdata\\local\\programs\\python\\python312\\lib\\site-packages (from virtualenv>=20.10.0->pre-commit) (0.4.0)\n",
      "Requirement already satisfied: filelock<4,>=3.12.2 in c:\\users\\asus1\\appdata\\local\\programs\\python\\python312\\lib\\site-packages (from virtualenv>=20.10.0->pre-commit) (3.18.0)\n",
      "Requirement already satisfied: platformdirs<5,>=3.9.1 in c:\\users\\asus1\\appdata\\local\\programs\\python\\python312\\lib\\site-packages (from virtualenv>=20.10.0->pre-commit) (4.3.6)\n"
     ]
    }
   ],
   "source": [
    "!pip install pre-commit "
   ]
  },
  {
   "cell_type": "code",
   "execution_count": 101,
   "id": "a333e4c7-8b5b-4664-bd33-cea8b32f1df0",
   "metadata": {},
   "outputs": [
    {
     "name": "stdout",
     "output_type": "stream",
     "text": [
      ".pre-commit-config.yaml created!\n"
     ]
    }
   ],
   "source": [
    "pre_commit_config = \"\"\"\n",
    "repos:\n",
    "- repo: https://github.com/psf/black\n",
    "  rev: 23.7.0\n",
    "  hooks:\n",
    "  - id: black\n",
    "- repo: https://github.com/PyCQA/isort\n",
    "  rev: 5.12.0\n",
    "  hooks:\n",
    "  - id: isort\n",
    "\"\"\"\n",
    "\n",
    "with open(\".pre-commit-config.yaml\", \"w\") as f:\n",
    "    f.write(pre_commit_config) #The file tells pre-commit which tools to run before each commit — here, it will run Black and isort\n",
    "\n",
    "print(\".pre-commit-config.yaml created!\")\n",
    "\n"
   ]
  },
  {
   "cell_type": "code",
   "execution_count": 102,
   "id": "e52dfee8-24d2-4e39-abf7-58e4a17fbf6a",
   "metadata": {},
   "outputs": [
    {
     "name": "stdout",
     "output_type": "stream",
     "text": [
      "pre-commit installed at .git\\hooks\\pre-commit\n"
     ]
    }
   ],
   "source": [
    "# This sets up Git hooks to run checks automatically before each commit.\n",
    "!pre-commit install\n"
   ]
  },
  {
   "cell_type": "code",
   "execution_count": 103,
   "id": "2fae2fb5-384a-4982-a042-7f2e60fab15a",
   "metadata": {},
   "outputs": [
    {
     "name": "stdout",
     "output_type": "stream",
     "text": [
      "black....................................................................Passed\n",
      "isort....................................................................Passed\n"
     ]
    }
   ],
   "source": [
    "!pre-commit run --all-files\n"
   ]
  },
  {
   "cell_type": "code",
   "execution_count": 104,
   "id": "e9ca9ef9-f380-44bf-8de0-874b5e716778",
   "metadata": {},
   "outputs": [
    {
     "data": {
      "text/plain": [
       "'C:\\\\Users\\\\ASUS1\\\\Desktop\\\\Shrig_Intern'"
      ]
     },
     "execution_count": 104,
     "metadata": {},
     "output_type": "execute_result"
    }
   ],
   "source": [
    "import os\n",
    "os.getcwd()"
   ]
  },
  {
   "cell_type": "code",
   "execution_count": 105,
   "id": "f42b955a-8c9c-443b-875a-87526005eaa6",
   "metadata": {},
   "outputs": [
    {
     "data": {
      "text/plain": [
       "['.git',\n",
       " '.ipynb_checkpoints',\n",
       " '.pre-commit-config.yaml',\n",
       " 'black.py',\n",
       " 'Day1.ipynb',\n",
       " 'Day2.ipynb',\n",
       " 'Day3.ipynb',\n",
       " 'Day4.ipynb',\n",
       " 'Day5.ipynb',\n",
       " 'dist',\n",
       " 'example.txt',\n",
       " 'isort.py',\n",
       " 'lint.py',\n",
       " 'my_package.egg-info',\n",
       " 'pyproject.toml',\n",
       " 'README.md',\n",
       " 'setup.py',\n",
       " 'test.py']"
      ]
     },
     "execution_count": 105,
     "metadata": {},
     "output_type": "execute_result"
    }
   ],
   "source": [
    "os.listdir()"
   ]
  },
  {
   "cell_type": "markdown",
   "id": "d2a757bc-1e13-4b25-8a96-ad21a4caa7f4",
   "metadata": {},
   "source": [
    "# Python Internals \n"
   ]
  },
  {
   "cell_type": "markdown",
   "id": "350c7e21-253b-452e-a70f-2ce90881156a",
   "metadata": {},
   "source": [
    "## Bytecode : \n",
    "### Bytecode is a simple, platform-independent code that Python converts your program into before running it."
   ]
  },
  {
   "cell_type": "code",
   "execution_count": 108,
   "id": "cfe40be2-abfc-4336-803b-aea4042ac392",
   "metadata": {},
   "outputs": [
    {
     "name": "stdout",
     "output_type": "stream",
     "text": [
      "  3           0 RESUME                   0\n",
      "\n",
      "  4           2 LOAD_FAST                0 (a)\n",
      "              4 LOAD_FAST                1 (b)\n",
      "              6 BINARY_OP                0 (+)\n",
      "             10 RETURN_VALUE\n"
     ]
    }
   ],
   "source": [
    "import dis\n",
    "\n",
    "def add(a, b):\n",
    "    return a + b\n",
    "\n",
    "dis.dis(add)"
   ]
  },
  {
   "cell_type": "markdown",
   "id": "90f9ab59-bf7f-45d2-8bda-49da5dc95700",
   "metadata": {},
   "source": [
    "## CPython:\n",
    "### CPython is the main Python interpreter written in C that converts Python code into bytecode and runs it."
   ]
  },
  {
   "cell_type": "markdown",
   "id": "3881f10b-7fdc-4b19-8a38-4152925e41fc",
   "metadata": {},
   "source": [
    "## GIL (Global Interpreter Lock):\n",
    "### The Global Interpreter Lock (GIL) is like a traffic light in Python that lets only one thread run your code at a time, which can slow down programs that try to do many things at once using multiple threads."
   ]
  },
  {
   "cell_type": "markdown",
   "id": "021dc549-ba5c-4024-bae1-fe4e03888a60",
   "metadata": {},
   "source": [
    "#### Why: To keep Python memory safe and avoid conflicts.\n",
    "#### Where: Inside the CPython interpreter.\n",
    "#### When: Always when Python code runs, especially with multiple threads.\n",
    "#### How: It lets only one thread run Python code at a time, making others wait.\n"
   ]
  },
  {
   "cell_type": "code",
   "execution_count": 109,
   "id": "4bb7e0b2-dffe-408f-b952-d96f6e997e1f",
   "metadata": {},
   "outputs": [
    {
     "name": "stdout",
     "output_type": "stream",
     "text": [
      "Time taken with threads: 2.61 seconds\n"
     ]
    }
   ],
   "source": [
    "## Gil with multithreading\n",
    "import threading\n",
    "import time\n",
    "\n",
    "def cpu_bound_task():\n",
    "    x = 0\n",
    "    for _ in range(10**7):\n",
    "        x += 1\n",
    "\n",
    "start = time.time()\n",
    "\n",
    "threads = []\n",
    "for _ in range(2):  # Two threads\n",
    "    t = threading.Thread(target=cpu_bound_task)\n",
    "    t.start()\n",
    "    threads.append(t)\n",
    "\n",
    "for t in threads:\n",
    "    t.join()\n",
    "\n",
    "end = time.time()\n",
    "print(f\"Time taken with threads: {end - start:.2f} seconds\")\n"
   ]
  },
  {
   "cell_type": "code",
   "execution_count": 110,
   "id": "db7963e1-fbbf-4f1f-b184-679dc246815e",
   "metadata": {},
   "outputs": [],
   "source": [
    "# Gil with multiprocessing\n",
    "gil_demo = \"\"\"from multiprocessing import Process\n",
    "import time\n",
    "\n",
    "def cpu_bound_task():\n",
    "    x = 0\n",
    "    for _ in range(10**7):\n",
    "        x += 1\n",
    "\n",
    "if __name__ == \"__main__\":\n",
    "    start = time.time()\n",
    "\n",
    "    processes = []\n",
    "    for _ in range(2):\n",
    "        p = Process(target=cpu_bound_task)\n",
    "        p.start()\n",
    "        processes.append(p)\n",
    "\n",
    "    for p in processes:\n",
    "        p.join()\n",
    "\n",
    "    end = time.time()\n",
    "    print(f\"Time taken with processes: {end - start:.2f} seconds\")\"\"\"\n",
    "\n",
    "with open(\"gil_demo.py\", \"w\") as g:\n",
    "    g.write(gil_demo)"
   ]
  },
  {
   "cell_type": "code",
   "execution_count": 111,
   "id": "67906e31-59b2-410a-a1d0-664103497e8f",
   "metadata": {},
   "outputs": [
    {
     "name": "stdout",
     "output_type": "stream",
     "text": [
      "Time taken with processes: 0.36 seconds\n"
     ]
    }
   ],
   "source": [
    "%run gil_demo.py"
   ]
  },
  {
   "cell_type": "code",
   "execution_count": 113,
   "id": "a409b7d3-0a20-4763-8834-54c9a1b412ca",
   "metadata": {},
   "outputs": [
    {
     "name": "stdout",
     "output_type": "stream",
     "text": [
      "Time taken with processes: 0.15 seconds\n"
     ]
    }
   ],
   "source": [
    "# error due to execution in jupyter notebook\n",
    "from multiprocessing import Process\n",
    "import time\n",
    "\n",
    "def cpu_bound_task():\n",
    "    x = 0\n",
    "    for _ in range(10**7):\n",
    "        x += 1\n",
    "\n",
    "if __name__ == \"__main__\":\n",
    "    start = time.time()\n",
    "\n",
    "    processes = []\n",
    "    for _ in range(2):\n",
    "        p = Process(target=cpu_bound_task)\n",
    "        p.start()\n",
    "        processes.append(p)\n",
    "\n",
    "    for p in processes:\n",
    "        p.join()\n",
    "\n",
    "    end = time.time()\n",
    "    print(f\"Time taken with processes: {end - start:.2f} seconds\")"
   ]
  },
  {
   "cell_type": "markdown",
   "id": "33d04eb2-3fc2-4fdb-8c64-ee00ffc2ff7b",
   "metadata": {},
   "source": [
    "## Python Memory Model & Object Life\n",
    "### -> Python manages memory automatically in a space called the heap.\n",
    "\n",
    "### -> It counts how many things use an object (reference counting).\n",
    "\n",
    "### -> If nothing uses an object, Python deletes it to free memory.\n",
    "\n",
    "### -> Sometimes objects refer to each other in a loop; Python’s garbage collector cleans these up.\n",
    "\n",
    "### -> New objects start fresh; if they last longer, they get checked less often (generations)."
   ]
  },
  {
   "cell_type": "markdown",
   "id": "1db7b4a1-a894-4a35-aa1a-5ed4dd68e5ec",
   "metadata": {},
   "source": [
    "## Object Life Cycle\n",
    "### -> Create: Python allocates memory when you make an object.\n",
    "\n",
    "### -> Use: Python tracks how many references the object has.\n",
    "\n",
    "### -> Delete: When no references remain, Python frees the object.\n",
    "\n",
    "### -> Cleanup: Special code can run when an object is deleted."
   ]
  },
  {
   "cell_type": "markdown",
   "id": "b6bce05e-7f04-48d5-a362-cb29d12705d8",
   "metadata": {},
   "source": [
    "## Tips to Avoid Memory Issues\n",
    "### -> Avoid circular references.\n",
    "\n",
    "### -> Use with to manage files/resources.\n",
    "\n",
    "### -> Avoid unnecessary global variables."
   ]
  },
  {
   "cell_type": "markdown",
   "id": "7abf855e-fc02-4e72-bd41-132dd8caa25a",
   "metadata": {},
   "source": [
    "## Tools to Help\n",
    "### -> gc : manage garbage collection.\n",
    "\n",
    "### -> sys.getsizeof() : check object size.\n",
    "\n",
    "### -> objgraph : find memory leaks visually."
   ]
  },
  {
   "cell_type": "code",
   "execution_count": null,
   "id": "adf3f39f-f25a-4242-8dba-fd763898a645",
   "metadata": {},
   "outputs": [],
   "source": []
  }
 ],
 "metadata": {
  "kernelspec": {
   "display_name": "Python 3 (ipykernel)",
   "language": "python",
   "name": "python3"
  },
  "language_info": {
   "codemirror_mode": {
    "name": "ipython",
    "version": 3
   },
   "file_extension": ".py",
   "mimetype": "text/x-python",
   "name": "python",
   "nbconvert_exporter": "python",
   "pygments_lexer": "ipython3",
   "version": "3.12.2"
  }
 },
 "nbformat": 4,
 "nbformat_minor": 5
}
