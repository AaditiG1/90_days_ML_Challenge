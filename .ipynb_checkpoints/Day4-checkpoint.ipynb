{
 "cells": [
  {
   "cell_type": "markdown",
   "id": "c2ab54a9-6486-4efa-8d27-7855e108addc",
   "metadata": {},
   "source": [
    "# Type Hints and Annotations\n",
    "## Type Hints is a feature in Python which helps to improve code readability and provides an opportunity to catch errors before runtime using type checkers like mypy.\n"
   ]
  },
  {
   "cell_type": "code",
   "execution_count": 1,
   "id": "1794e596-4b38-4b90-9f46-3c8a16f9f355",
   "metadata": {},
   "outputs": [
    {
     "name": "stdout",
     "output_type": "stream",
     "text": [
      "Requirement already satisfied: mypy in c:\\users\\asus1\\appdata\\local\\programs\\python\\python312\\lib\\site-packages (1.17.1)\n",
      "Requirement already satisfied: typing_extensions>=4.6.0 in c:\\users\\asus1\\appdata\\local\\programs\\python\\python312\\lib\\site-packages (from mypy) (4.14.1)\n",
      "Requirement already satisfied: mypy_extensions>=1.0.0 in c:\\users\\asus1\\appdata\\local\\programs\\python\\python312\\lib\\site-packages (from mypy) (1.1.0)\n",
      "Requirement already satisfied: pathspec>=0.9.0 in c:\\users\\asus1\\appdata\\local\\programs\\python\\python312\\lib\\site-packages (from mypy) (0.12.1)\n"
     ]
    },
    {
     "name": "stderr",
     "output_type": "stream",
     "text": [
      "\n",
      "[notice] A new release of pip is available: 24.0 -> 25.2\n",
      "[notice] To update, run: python.exe -m pip install --upgrade pip\n"
     ]
    }
   ],
   "source": [
    "#Static type checking with mypy\n",
    "!pip install mypy"
   ]
  },
  {
   "cell_type": "code",
   "execution_count": 7,
   "id": "139b4d89-fc5b-497a-a7fe-bd295f7c53b2",
   "metadata": {},
   "outputs": [],
   "source": [
    "# Using typing module\n",
    "#List\n",
    "from typing import List\n",
    "\n",
    "numbers: List[int] = [1, 2, 3]\n",
    "names: List[str] = [\"A\", \"B\"]\n",
    "\n",
    "# Dict\n",
    "from typing import Dict\n",
    "\n",
    "person: Dict[str, int] = {\"age\": 20, \"height\": 168}\n",
    "\n",
    "# Union\n",
    "from typing import Union\n",
    "\n",
    "value: Union[int, str] = 42\n",
    "value = \"forty-two\"  # Also valid\n",
    "\n",
    "# Optional\n",
    "from typing import Optional\n",
    "\n",
    "nickname: Optional[str] = None\n",
    "nickname = \"Adi\"  # Also valid\n",
    "\n",
    "# Tuple\n",
    "from typing import Tuple\n",
    "\n",
    "user_info: Tuple[str, int] = (\"Alice\", 30)\n"
   ]
  },
  {
   "cell_type": "code",
   "execution_count": 8,
   "id": "fd634458-0a2e-4d22-b157-3cf3ad45eefb",
   "metadata": {},
   "outputs": [
    {
     "name": "stdin",
     "output_type": "stream",
     "text": [
      "Enter your name:  Pandu\n",
      "Enter 3 numbers separated by spaces:  55 60 70\n",
      "Enter email username (leave blank for guest):  rose@gmail.com\n"
     ]
    },
    {
     "name": "stdout",
     "output_type": "stream",
     "text": [
      "Hello, Pandu\n",
      "Average: 61.666666666666664\n",
      "Email: rose@gmail.com@example.com\n"
     ]
    }
   ],
   "source": [
    "## Code example for typing using list and optional\n",
    "from typing import List, Optional\n",
    "\n",
    "# Function to greet a person\n",
    "def greet(name: str) -> str:\n",
    "    return \"Hello, \" + name\n",
    "\n",
    "# Function to calculate the average of a list of numbers\n",
    "def average(numbers: List[int]) -> float:\n",
    "    return sum(numbers) / len(numbers)\n",
    "\n",
    "# Function that returns an email if provided, else a default one\n",
    "def get_email(username: Optional[str]) -> str:\n",
    "    if username is None or username.strip() == \"\":\n",
    "        return \"guest@example.com\"\n",
    "    return username + \"@example.com\"\n",
    "\n",
    "# ----------------------------\n",
    "# User Input Section\n",
    "# ----------------------------\n",
    "\n",
    "# Get name\n",
    "user_name = input(\"Enter your name: \")  # input() always returns str\n",
    "message = greet(user_name)\n",
    "\n",
    "# Get numbers for average\n",
    "number_input = input(\"Enter 3 numbers separated by spaces: \")\n",
    "number_list: List[int] = [int(num) for num in number_input.split()]\n",
    "\n",
    "# Get email username (optional)\n",
    "email_input = input(\"Enter email username (leave blank for guest): \")\n",
    "email = get_email(email_input)\n",
    "\n",
    "# ----------------------------\n",
    "# Output\n",
    "# ----------------------------\n",
    "\n",
    "print(message)\n",
    "print(\"Average:\", average(number_list))\n",
    "print(\"Email:\", email)\n"
   ]
  },
  {
   "cell_type": "code",
   "execution_count": 9,
   "id": "e9900f43-904f-435d-9b71-c15c6e4885c4",
   "metadata": {},
   "outputs": [
    {
     "name": "stdout",
     "output_type": "stream",
     "text": [
      "GfgArticle(title='DataClasses', author='vibhu4agarwal', language='Python', upvotes=0)\n"
     ]
    }
   ],
   "source": [
    "# Dataclasses\n",
    "# A basic Data Class\n",
    "\n",
    "# Importing dataclass module\n",
    "from dataclasses import dataclass\n",
    "\n",
    "@dataclass\n",
    "class GfgArticle(): #Without a __init__() constructor, the class accepted values and assigned it to appropriate variables.\n",
    "    \"\"\"A class for holding an article content\"\"\"\n",
    "\n",
    "    # Attributes Declaration\n",
    "    # using Type Hints\n",
    "\n",
    "    title: str\n",
    "    author: str\n",
    "    language: str\n",
    "    upvotes: int\n",
    "\n",
    "# A DataClass object\n",
    "article = GfgArticle(\"DataClasses\",\n",
    "                     \"vibhu4agarwal\",\n",
    "                     \"Python\", 0)\n",
    "print(article) #The output of printing object is a neat representation of the data present in it, without any explicit function coded to do this. That means it has a modified __repr__() function.\n"
   ]
  },
  {
   "cell_type": "code",
   "execution_count": 10,
   "id": "c3d0c13b-cbe7-421a-932a-72a48dc9f6f0",
   "metadata": {},
   "outputs": [
    {
     "name": "stdout",
     "output_type": "stream",
     "text": [
      "Student 1 Name: Adi\n",
      "Student 2 Email: aaditi00@example.com\n",
      "Student(name='Adi', age=20, grade=85.5, email=None)\n",
      "Are they same? False\n"
     ]
    }
   ],
   "source": [
    "# Example of dataclass\n",
    "from dataclasses import dataclass\n",
    "from typing import Optional\n",
    "\n",
    "# Define the dataclass\n",
    "@dataclass\n",
    "class Student:\n",
    "    name: str\n",
    "    age: int\n",
    "    grade: float\n",
    "    email: Optional[str] = None  # Optional field with default = None\n",
    "\n",
    "# Create student objects\n",
    "student1 = Student(\"Adi\", 20, 85.5)\n",
    "student2 = Student(\"Bina\", 19, 92.0, \"aaditi00@example.com\")\n",
    "\n",
    "# Accessing fields\n",
    "print(\"Student 1 Name:\", student1.name)\n",
    "print(\"Student 2 Email:\", student2.email)\n",
    "\n",
    "# Auto-generated __repr__\n",
    "print(student1)\n",
    "\n",
    "# Auto-generated __eq__\n",
    "print(\"Are they same?\", student1 == student2)"
   ]
  },
  {
   "cell_type": "markdown",
   "id": "76f5d16c-eba8-4154-9702-7ec25d454d0f",
   "metadata": {},
   "source": [
    "## Regular Expression: \n",
    "### Regex is a sequence of characters that define a search pattern."
   ]
  },
  {
   "cell_type": "code",
   "execution_count": 11,
   "id": "9102253a-0057-4d7a-8480-1e1ad4c2e2c4",
   "metadata": {},
   "outputs": [
    {
     "name": "stdout",
     "output_type": "stream",
     "text": [
      "Found number: 12345\n"
     ]
    }
   ],
   "source": [
    "# re.search()\n",
    "import re\n",
    "\n",
    "text = \"Hello, my number is 12345\"\n",
    "result = re.search(r'\\d+', text)\n",
    "\n",
    "if result:\n",
    "    print(\"Found number:\", result.group())  # Output: 12345\n"
   ]
  },
  {
   "cell_type": "code",
   "execution_count": 12,
   "id": "1a6cac63-f98c-4229-8afe-14bbfb43bbf9",
   "metadata": {},
   "outputs": [
    {
     "name": "stdout",
     "output_type": "stream",
     "text": [
      "Matched from start: 12345\n"
     ]
    }
   ],
   "source": [
    "# re.match()\n",
    "text = \"12345 is my number\"\n",
    "result = re.match(r'\\d+', text)\n",
    "\n",
    "if result:\n",
    "    print(\"Matched from start:\", result.group())  # Output: 12345\n"
   ]
  },
  {
   "cell_type": "code",
   "execution_count": 13,
   "id": "0be82bc7-15da-43e3-96b3-fd407d173e0a",
   "metadata": {},
   "outputs": [
    {
     "name": "stdout",
     "output_type": "stream",
     "text": [
      "I love dogs. dogs are cute.\n"
     ]
    }
   ],
   "source": [
    "# re.sub()\n",
    "text = \"I love cats. Cats are cute.\"\n",
    "new_text = re.sub(r'cats?', 'dogs', text, flags=re.IGNORECASE)\n",
    "\n",
    "print(new_text)\n",
    "\n"
   ]
  },
  {
   "cell_type": "markdown",
   "id": "2d433fda-293f-4f34-8cd3-36217ca52dcf",
   "metadata": {},
   "source": [
    "### Group and capturing\n",
    "#### -> extract portions of matched patterns.\n",
    "#### -> To reuse matched content in substitutions.\n",
    "#### -> To apply quantifiers to part of a pattern.\n",
    "#### -> To make code readable and structured\n"
   ]
  },
  {
   "cell_type": "code",
   "execution_count": 18,
   "id": "a16d2280-df7f-40fc-9ab5-09d0387e23a5",
   "metadata": {},
   "outputs": [
    {
     "name": "stdout",
     "output_type": "stream",
     "text": [
      "12345\n",
      "250\n"
     ]
    }
   ],
   "source": [
    "## Example on how it works\n",
    "text = \"Order ID: 12345, Amount: $250\"\n",
    "match = re.search(r\"Order ID: (\\d+), Amount: \\$(\\d+)\", text)\n",
    "\n",
    "if match:\n",
    "    print(match.group(1))  # '12345' - First group\n",
    "    print(match.group(2))  # '250'   - Second group"
   ]
  },
  {
   "cell_type": "code",
   "execution_count": 21,
   "id": "ba6522db-4d94-4e07-8f8b-63d9aa494695",
   "metadata": {},
   "outputs": [
    {
     "name": "stdout",
     "output_type": "stream",
     "text": [
      "key\n",
      "value\n",
      "Aaditi\n"
     ]
    }
   ],
   "source": [
    "# code\n",
    "text = \"key:value:Aaditi\"\n",
    "pattern = r\"(\\w+):(\\w+):(\\w+)\"  # Three capturing groups\n",
    "match = re.search(pattern, text)\n",
    "\n",
    "if match:\n",
    "    print(match.group(1))  # key\n",
    "    print(match.group(2))  # value\n",
    "    print(match.group(3)) # Aaditi"
   ]
  },
  {
   "cell_type": "code",
   "execution_count": 24,
   "id": "57179634-8b3b-4db3-8ec5-991b7c9659a5",
   "metadata": {},
   "outputs": [
    {
     "name": "stdout",
     "output_type": "stream",
     "text": [
      "2 1\n"
     ]
    }
   ],
   "source": [
    "text = \"1-2\"\n",
    "pattern = r\"(\\w+)-(\\w+)\"\n",
    "replacement = r\"\\2 \\1\"  # Swap 1 and 2\n",
    "\n",
    "new = re.sub(pattern, replacement, text)\n",
    "print(new)  # Output: 2 1"
   ]
  },
  {
   "cell_type": "code",
   "execution_count": 26,
   "id": "47b56b42-8579-416b-86fe-72d81b937c7c",
   "metadata": {},
   "outputs": [
    {
     "name": "stdout",
     "output_type": "stream",
     "text": [
      "Ghimire\n"
     ]
    }
   ],
   "source": [
    "# non-capturing group\n",
    "pattern = r\"(?:Mr|Ms)\\. (\\w+)\"\n",
    "text = \"Ms. Ghimire\"\n",
    "match = re.search(pattern, text)\n",
    "\n",
    "print(match.group(1))  "
   ]
  },
  {
   "cell_type": "code",
   "execution_count": 36,
   "id": "ce0ab114-a3b5-4d62-b825-cf0cd7ba8097",
   "metadata": {},
   "outputs": [
    {
     "name": "stdout",
     "output_type": "stream",
     "text": [
      "Aaditi\n",
      "Ghimire\n"
     ]
    }
   ],
   "source": [
    "# named groups\n",
    "pattern = r\"(?P<first>\\w+)-(?P<last>\\w+)\"\n",
    "text = \"Aaditi-Ghimire\"\n",
    "match = re.search(pattern, text)\n",
    "\n",
    "print(match.group(\"first\"))  # Aaditi\n",
    "print(match.group(\"last\"))   # Ghimire"
   ]
  },
  {
   "cell_type": "code",
   "execution_count": 35,
   "id": "1328e3fe-7e37-40d4-8aaa-d691904ad645",
   "metadata": {},
   "outputs": [
    {
     "name": "stderr",
     "output_type": "stream",
     "text": [
      ".\n",
      "----------------------------------------------------------------------\n",
      "Ran 1 test in 0.000s\n",
      "\n",
      "OK\n"
     ]
    }
   ],
   "source": [
    "# Unit Test\n",
    "import unittest\n",
    "\n",
    "def add(a, b):\n",
    "    return a + b\n",
    "\n",
    "class T(unittest.TestCase):\n",
    "\n",
    "    def test_add(self):\n",
    "        self.assertEqual(add(2, 3), 5)\n",
    "        self.assertNotEqual(add(2, 2), 5)\n",
    "\n",
    "if __name__ == \"__main__\":\n",
    "    unittest.TextTestRunner().run(unittest.TestLoader().loadTestsFromTestCase(T))"
   ]
  },
  {
   "cell_type": "code",
   "execution_count": 22,
   "id": "e0cb7241-e0c8-4cb3-82ff-2900d61cf5d8",
   "metadata": {},
   "outputs": [
    {
     "name": "stdout",
     "output_type": "stream",
     "text": [
      "\u001b[1m============================= test session starts =============================\u001b[0m\n",
      "platform win32 -- Python 3.12.2, pytest-8.4.1, pluggy-1.6.0\n",
      "rootdir: C:\\Users\\ASUS1\\Desktop\\Shrig_Intern\n",
      "plugins: anyio-4.8.0\n",
      "collected 1 item\n",
      "\n",
      "test.py \u001b[32m.\u001b[0m\u001b[32m                                                                [100%]\u001b[0m\n",
      "\n",
      "\u001b[32m============================== \u001b[32m\u001b[1m1 passed\u001b[0m\u001b[32m in 0.01s\u001b[0m\u001b[32m ==============================\u001b[0m\n"
     ]
    }
   ],
   "source": [
    "# py Test\n",
    "# Step 1: Write the test file\n",
    "with open(\"test.py\", \"w\") as f:\n",
    "    f.write('''\n",
    "def add(a, b):\n",
    "    return a + b\n",
    "\n",
    "def test_add():\n",
    "    assert add(1, 2) == 3\n",
    "    assert add(-1, 1) == 0\n",
    "''')\n",
    "\n",
    "# Step 2: Run the test file using pytest\n",
    "!python -m pytest test.py\n"
   ]
  },
  {
   "cell_type": "code",
   "execution_count": null,
   "id": "ddec0896-a3f4-48d1-98d9-4da07beee913",
   "metadata": {},
   "outputs": [],
   "source": []
  },
  {
   "cell_type": "code",
   "execution_count": null,
   "id": "6c0242b8-6478-411e-8039-3cce7c212a85",
   "metadata": {},
   "outputs": [],
   "source": []
  }
 ],
 "metadata": {
  "kernelspec": {
   "display_name": "Python 3 (ipykernel)",
   "language": "python",
   "name": "python3"
  },
  "language_info": {
   "codemirror_mode": {
    "name": "ipython",
    "version": 3
   },
   "file_extension": ".py",
   "mimetype": "text/x-python",
   "name": "python",
   "nbconvert_exporter": "python",
   "pygments_lexer": "ipython3",
   "version": "3.12.2"
  }
 },
 "nbformat": 4,
 "nbformat_minor": 5
}
